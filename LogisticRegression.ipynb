{
 "cells": [
  {
   "cell_type": "code",
   "execution_count": 1,
   "id": "hired-flesh",
   "metadata": {},
   "outputs": [],
   "source": [
    "# evaluate lstm for monthly car sales dataset\n",
    "from math import sqrt\n",
    "from numpy import array\n",
    "from numpy import mean\n",
    "from numpy import std\n",
    "import numpy\n",
    "from pandas import DataFrame\n",
    "from pandas import concat\n",
    "from pandas import read_csv\n",
    "import pandas as pd\n",
    "from sklearn.metrics import mean_squared_error\n",
    "from tensorflow.keras.models import Sequential\n",
    "from tensorflow.keras.layers import Dense\n",
    "from tensorflow.keras.layers import LSTM\n",
    "import tensorflow.keras.optimizers as optimizers\n",
    "from matplotlib import pyplot\n",
    "from sklearn.preprocessing import MinMaxScaler\n",
    "import tensorflow.keras.layers as layers\n",
    "from  tensorflow.keras.utils import to_categorical\n",
    "from  tensorflow.keras.callbacks import ModelCheckpoint, EarlyStopping"
   ]
  },
  {
   "cell_type": "code",
   "execution_count": 2,
   "id": "incident-engineering",
   "metadata": {},
   "outputs": [],
   "source": [
    "import pandas as pd\n",
    "import re\n",
    "import matplotlib.pyplot as plt\n",
    "import seaborn as sns\n",
    "import numpy as np\n",
    "import geopandas as gpd\n",
    "import glob\n",
    "import datetime\n",
    "from scipy.cluster.hierarchy import linkage, fcluster\n",
    "from scipy.cluster.vq import kmeans, vq, whiten\n",
    "import random\n",
    "random.seed(42)\n",
    "import sklearn.metrics as metrics\n",
    "from sklearn.linear_model import LogisticRegression\n",
    "from sklearn.metrics import accuracy_score\n",
    "from sklearn.model_selection import train_test_split, GridSearchCV, RandomizedSearchCV, KFold\n",
    "from sklearn.metrics import roc_curve, roc_auc_score\n",
    "from scipy.stats import loguniform\n",
    "from sklearn.utils import resample\n",
    "from xgboost import XGBClassifier\n",
    "from sklearn.metrics import precision_recall_fscore_support, accuracy_score, confusion_matrix, classification_report\n",
    "from sklearn.ensemble import RandomForestClassifier\n",
    "import warnings\n",
    "warnings.filterwarnings(action='once')"
   ]
  },
  {
   "cell_type": "code",
   "execution_count": 3,
   "id": "civil-influence",
   "metadata": {},
   "outputs": [
    {
     "name": "stderr",
     "output_type": "stream",
     "text": [
      "C:\\ProgramData\\Anaconda3\\lib\\site-packages\\ipykernel\\ipkernel.py:287: DeprecationWarning: `should_run_async` will not call `transform_cell` automatically in the future. Please pass the result to `transformed_cell` argument and any exception that happen during thetransform in `preprocessing_exc_tuple` in IPython 7.17 and above.\n",
      "  and should_run_async(code)\n"
     ]
    }
   ],
   "source": [
    "rides_df = pd.read_csv(\"~/Documents/coursedata/rides.csv\")"
   ]
  },
  {
   "cell_type": "code",
   "execution_count": 4,
   "id": "passive-pizza",
   "metadata": {},
   "outputs": [],
   "source": [
    "rides_df=  rides_df .drop(\"Unnamed: 0\",axis=1)"
   ]
  },
  {
   "cell_type": "code",
   "execution_count": 5,
   "id": "dramatic-binary",
   "metadata": {},
   "outputs": [],
   "source": [
    "rides_df['pickup_time'] = pd.to_datetime(rides_df['pickup_time'],format= '%Y-%m-%d %H:%M:%S' )\n",
    "rides_df['drop_time'] = pd.to_datetime(rides_df['drop_time'],format= '%Y-%m-%d %H:%M:%S' )"
   ]
  },
  {
   "cell_type": "code",
   "execution_count": 6,
   "id": "through-match",
   "metadata": {},
   "outputs": [
    {
     "data": {
      "text/html": [
       "<div>\n",
       "<style scoped>\n",
       "    .dataframe tbody tr th:only-of-type {\n",
       "        vertical-align: middle;\n",
       "    }\n",
       "\n",
       "    .dataframe tbody tr th {\n",
       "        vertical-align: top;\n",
       "    }\n",
       "\n",
       "    .dataframe thead th {\n",
       "        text-align: right;\n",
       "    }\n",
       "</style>\n",
       "<table border=\"1\" class=\"dataframe\">\n",
       "  <thead>\n",
       "    <tr style=\"text-align: right;\">\n",
       "      <th></th>\n",
       "      <th>cabid</th>\n",
       "      <th>group</th>\n",
       "      <th>pickup_lat</th>\n",
       "      <th>drop_lat</th>\n",
       "      <th>pickup_long</th>\n",
       "      <th>drop_long</th>\n",
       "      <th>pickup_timstamp</th>\n",
       "      <th>drop_timestamp</th>\n",
       "      <th>occupancy</th>\n",
       "      <th>pickup_time</th>\n",
       "      <th>drop_time</th>\n",
       "      <th>duration</th>\n",
       "      <th>previous_pickup</th>\n",
       "      <th>Time_between_pickups</th>\n",
       "      <th>cluster</th>\n",
       "    </tr>\n",
       "  </thead>\n",
       "  <tbody>\n",
       "    <tr>\n",
       "      <th>0</th>\n",
       "      <td>192</td>\n",
       "      <td>1</td>\n",
       "      <td>37.79611</td>\n",
       "      <td>37.79987</td>\n",
       "      <td>-122.42011</td>\n",
       "      <td>-122.41242</td>\n",
       "      <td>1211018404</td>\n",
       "      <td>1211018684</td>\n",
       "      <td>1</td>\n",
       "      <td>2008-05-17 12:00:04</td>\n",
       "      <td>2008-05-17 12:04:44</td>\n",
       "      <td>4</td>\n",
       "      <td>2008-05-17 12:00:04</td>\n",
       "      <td>0.0</td>\n",
       "      <td>5</td>\n",
       "    </tr>\n",
       "    <tr>\n",
       "      <th>1</th>\n",
       "      <td>49</td>\n",
       "      <td>1</td>\n",
       "      <td>37.78771</td>\n",
       "      <td>37.78795</td>\n",
       "      <td>-122.39074</td>\n",
       "      <td>-122.39051</td>\n",
       "      <td>1211018404</td>\n",
       "      <td>1211018592</td>\n",
       "      <td>1</td>\n",
       "      <td>2008-05-17 12:00:04</td>\n",
       "      <td>2008-05-17 12:03:12</td>\n",
       "      <td>3</td>\n",
       "      <td>2008-05-17 12:00:04</td>\n",
       "      <td>0.0</td>\n",
       "      <td>6</td>\n",
       "    </tr>\n",
       "    <tr>\n",
       "      <th>2</th>\n",
       "      <td>425</td>\n",
       "      <td>1</td>\n",
       "      <td>37.77350</td>\n",
       "      <td>37.77350</td>\n",
       "      <td>-122.43753</td>\n",
       "      <td>-122.43753</td>\n",
       "      <td>1211018405</td>\n",
       "      <td>1211018405</td>\n",
       "      <td>1</td>\n",
       "      <td>2008-05-17 12:00:05</td>\n",
       "      <td>2008-05-17 12:00:05</td>\n",
       "      <td>0</td>\n",
       "      <td>2008-05-17 12:00:04</td>\n",
       "      <td>1.0</td>\n",
       "      <td>10</td>\n",
       "    </tr>\n",
       "    <tr>\n",
       "      <th>3</th>\n",
       "      <td>255</td>\n",
       "      <td>1</td>\n",
       "      <td>37.78559</td>\n",
       "      <td>37.78667</td>\n",
       "      <td>-122.42003</td>\n",
       "      <td>-122.41549</td>\n",
       "      <td>1211018407</td>\n",
       "      <td>1211018530</td>\n",
       "      <td>1</td>\n",
       "      <td>2008-05-17 12:00:07</td>\n",
       "      <td>2008-05-17 12:02:10</td>\n",
       "      <td>2</td>\n",
       "      <td>2008-05-17 12:00:05</td>\n",
       "      <td>2.0</td>\n",
       "      <td>5</td>\n",
       "    </tr>\n",
       "    <tr>\n",
       "      <th>4</th>\n",
       "      <td>520</td>\n",
       "      <td>1</td>\n",
       "      <td>37.76946</td>\n",
       "      <td>37.76959</td>\n",
       "      <td>-122.44860</td>\n",
       "      <td>-122.44858</td>\n",
       "      <td>1211018407</td>\n",
       "      <td>1211018446</td>\n",
       "      <td>1</td>\n",
       "      <td>2008-05-17 12:00:07</td>\n",
       "      <td>2008-05-17 12:00:46</td>\n",
       "      <td>0</td>\n",
       "      <td>2008-05-17 12:00:07</td>\n",
       "      <td>0.0</td>\n",
       "      <td>9</td>\n",
       "    </tr>\n",
       "  </tbody>\n",
       "</table>\n",
       "</div>"
      ],
      "text/plain": [
       "   cabid  group  pickup_lat  drop_lat  pickup_long  drop_long  \\\n",
       "0    192      1    37.79611  37.79987   -122.42011 -122.41242   \n",
       "1     49      1    37.78771  37.78795   -122.39074 -122.39051   \n",
       "2    425      1    37.77350  37.77350   -122.43753 -122.43753   \n",
       "3    255      1    37.78559  37.78667   -122.42003 -122.41549   \n",
       "4    520      1    37.76946  37.76959   -122.44860 -122.44858   \n",
       "\n",
       "   pickup_timstamp  drop_timestamp  occupancy         pickup_time  \\\n",
       "0       1211018404      1211018684          1 2008-05-17 12:00:04   \n",
       "1       1211018404      1211018592          1 2008-05-17 12:00:04   \n",
       "2       1211018405      1211018405          1 2008-05-17 12:00:05   \n",
       "3       1211018407      1211018530          1 2008-05-17 12:00:07   \n",
       "4       1211018407      1211018446          1 2008-05-17 12:00:07   \n",
       "\n",
       "            drop_time  duration      previous_pickup  Time_between_pickups  \\\n",
       "0 2008-05-17 12:04:44         4  2008-05-17 12:00:04                   0.0   \n",
       "1 2008-05-17 12:03:12         3  2008-05-17 12:00:04                   0.0   \n",
       "2 2008-05-17 12:00:05         0  2008-05-17 12:00:04                   1.0   \n",
       "3 2008-05-17 12:02:10         2  2008-05-17 12:00:05                   2.0   \n",
       "4 2008-05-17 12:00:46         0  2008-05-17 12:00:07                   0.0   \n",
       "\n",
       "   cluster  \n",
       "0        5  \n",
       "1        6  \n",
       "2       10  \n",
       "3        5  \n",
       "4        9  "
      ]
     },
     "execution_count": 6,
     "metadata": {},
     "output_type": "execute_result"
    }
   ],
   "source": [
    "rides_df.head()"
   ]
  },
  {
   "cell_type": "code",
   "execution_count": 7,
   "id": "moving-burke",
   "metadata": {},
   "outputs": [
    {
     "name": "stderr",
     "output_type": "stream",
     "text": [
      "C:\\ProgramData\\Anaconda3\\lib\\site-packages\\ipykernel\\ipkernel.py:287: DeprecationWarning: `should_run_async` will not call `transform_cell` automatically in the future. Please pass the result to `transformed_cell` argument and any exception that happen during thetransform in `preprocessing_exc_tuple` in IPython 7.17 and above.\n",
      "  and should_run_async(code)\n"
     ]
    },
    {
     "data": {
      "text/plain": [
       "cabid                            int64\n",
       "group                            int64\n",
       "pickup_lat                     float64\n",
       "drop_lat                       float64\n",
       "pickup_long                    float64\n",
       "drop_long                      float64\n",
       "pickup_timstamp                  int64\n",
       "drop_timestamp                   int64\n",
       "occupancy                        int64\n",
       "pickup_time             datetime64[ns]\n",
       "drop_time               datetime64[ns]\n",
       "duration                         int64\n",
       "previous_pickup                 object\n",
       "Time_between_pickups           float64\n",
       "cluster                          int64\n",
       "dtype: object"
      ]
     },
     "execution_count": 7,
     "metadata": {},
     "output_type": "execute_result"
    }
   ],
   "source": [
    "rides_df.dtypes"
   ]
  },
  {
   "cell_type": "code",
   "execution_count": 8,
   "id": "critical-chrome",
   "metadata": {},
   "outputs": [],
   "source": [
    "clust_size = rides_df.groupby('cluster')['occupancy'].count().reset_index(name = 'count_rides').sort_values('count_rides', ascending = False)"
   ]
  },
  {
   "cell_type": "code",
   "execution_count": 9,
   "id": "through-minority",
   "metadata": {},
   "outputs": [
    {
     "data": {
      "image/png": "[encoded data removed]",
      "text/plain": [
       "<Figure size 1080x648 with 1 Axes>"
      ]
     },
     "metadata": {},
     "output_type": "display_data"
    }
   ],
   "source": [
    "sns.set()\n",
    "plt.figure(figsize = (15,9))\n",
    "plt.bar(clust_size['cluster'], clust_size['count_rides'])\n",
    "plt.title('Cluster size')\n",
    "plt.show()"
   ]
  },
  {
   "cell_type": "markdown",
   "id": "removable-center",
   "metadata": {},
   "source": [
    "We will now create a pivot table where the columns are the regions, the value in the columns is the number of pickups in that region at the given time in the row."
   ]
  },
  {
   "cell_type": "code",
   "execution_count": 10,
   "id": "gross-packing",
   "metadata": {},
   "outputs": [],
   "source": [
    "df_crosstab = pd.pivot_table(rides_df, values = 'occupancy', index= 'pickup_time', columns ='cluster', aggfunc = 'sum')"
   ]
  },
  {
   "cell_type": "code",
   "execution_count": 11,
   "id": "practical-monitoring",
   "metadata": {},
   "outputs": [
    {
     "name": "stderr",
     "output_type": "stream",
     "text": [
      "C:\\ProgramData\\Anaconda3\\lib\\site-packages\\ipykernel\\ipkernel.py:287: DeprecationWarning: `should_run_async` will not call `transform_cell` automatically in the future. Please pass the result to `transformed_cell` argument and any exception that happen during thetransform in `preprocessing_exc_tuple` in IPython 7.17 and above.\n",
      "  and should_run_async(code)\n"
     ]
    }
   ],
   "source": [
    "df_crosstab = df_crosstab.replace(np.nan, 0)"
   ]
  },
  {
   "cell_type": "code",
   "execution_count": 308,
   "id": "widespread-strand",
   "metadata": {},
   "outputs": [
    {
     "name": "stderr",
     "output_type": "stream",
     "text": [
      "C:\\ProgramData\\Anaconda3\\lib\\site-packages\\ipykernel\\ipkernel.py:287: DeprecationWarning: `should_run_async` will not call `transform_cell` automatically in the future. Please pass the result to `transformed_cell` argument and any exception that happen during thetransform in `preprocessing_exc_tuple` in IPython 7.17 and above.\n",
      "  and should_run_async(code)\n"
     ]
    }
   ],
   "source": [
    "region  = 10\n",
    "ts_one  = pd.Series(df_crosstab[region]).reset_index()"
   ]
  },
  {
   "cell_type": "code",
   "execution_count": 309,
   "id": "conscious-persian",
   "metadata": {},
   "outputs": [
    {
     "name": "stderr",
     "output_type": "stream",
     "text": [
      "C:\\ProgramData\\Anaconda3\\lib\\site-packages\\ipykernel_launcher.py:10: FutureWarning: Series.dt.weekofyear and Series.dt.week have been deprecated.  Please use Series.dt.isocalendar().week instead.\n",
      "  # Remove the CWD from sys.path while we load stuff.\n"
     ]
    }
   ],
   "source": [
    "ts_one['weekday'] = ts_one['pickup_time'].dt.day_name()\n",
    "ts_one['hour_of_day'] = ts_one['pickup_time'].dt.hour\n",
    "ts_one['minute_of_day'] = ts_one['pickup_time'].dt.minute\n",
    "ts_one = ts_one.rename(columns = {ts_one.columns[1]: 'zone'})\n",
    "ts_one['previous_demand'] = ts_one['zone'].shift(1)\n",
    "#ts_one.loc[ts_one[\"zone\"] > 0, 'zone'] = 1\n",
    "#ts_one['zone'] = ts_one['zone'].astype('category')\n",
    "ts_one['weekday'] = ts_one['weekday'].astype('category')\n",
    "ts_one['previous_demand'] = ts_one['previous_demand'].replace(np.nan, 0)\n",
    "ts_one['week'] = ts_one['pickup_time'].dt.week"
   ]
  },
  {
   "cell_type": "code",
   "execution_count": 310,
   "id": "italian-interstate",
   "metadata": {},
   "outputs": [
    {
     "data": {
      "text/html": [
       "<div>\n",
       "<style scoped>\n",
       "    .dataframe tbody tr th:only-of-type {\n",
       "        vertical-align: middle;\n",
       "    }\n",
       "\n",
       "    .dataframe tbody tr th {\n",
       "        vertical-align: top;\n",
       "    }\n",
       "\n",
       "    .dataframe thead th {\n",
       "        text-align: right;\n",
       "    }\n",
       "</style>\n",
       "<table border=\"1\" class=\"dataframe\">\n",
       "  <thead>\n",
       "    <tr style=\"text-align: right;\">\n",
       "      <th></th>\n",
       "      <th>pickup_time</th>\n",
       "      <th>zone</th>\n",
       "      <th>weekday</th>\n",
       "      <th>hour_of_day</th>\n",
       "      <th>minute_of_day</th>\n",
       "      <th>previous_demand</th>\n",
       "      <th>week</th>\n",
       "    </tr>\n",
       "  </thead>\n",
       "  <tbody>\n",
       "    <tr>\n",
       "      <th>0</th>\n",
       "      <td>2008-05-17 12:00:04</td>\n",
       "      <td>0.0</td>\n",
       "      <td>Saturday</td>\n",
       "      <td>12</td>\n",
       "      <td>0</td>\n",
       "      <td>0.0</td>\n",
       "      <td>20</td>\n",
       "    </tr>\n",
       "    <tr>\n",
       "      <th>1</th>\n",
       "      <td>2008-05-17 12:00:05</td>\n",
       "      <td>1.0</td>\n",
       "      <td>Saturday</td>\n",
       "      <td>12</td>\n",
       "      <td>0</td>\n",
       "      <td>0.0</td>\n",
       "      <td>20</td>\n",
       "    </tr>\n",
       "    <tr>\n",
       "      <th>2</th>\n",
       "      <td>2008-05-17 12:00:07</td>\n",
       "      <td>0.0</td>\n",
       "      <td>Saturday</td>\n",
       "      <td>12</td>\n",
       "      <td>0</td>\n",
       "      <td>1.0</td>\n",
       "      <td>20</td>\n",
       "    </tr>\n",
       "    <tr>\n",
       "      <th>3</th>\n",
       "      <td>2008-05-17 12:00:08</td>\n",
       "      <td>0.0</td>\n",
       "      <td>Saturday</td>\n",
       "      <td>12</td>\n",
       "      <td>0</td>\n",
       "      <td>0.0</td>\n",
       "      <td>20</td>\n",
       "    </tr>\n",
       "    <tr>\n",
       "      <th>4</th>\n",
       "      <td>2008-05-17 12:00:09</td>\n",
       "      <td>0.0</td>\n",
       "      <td>Saturday</td>\n",
       "      <td>12</td>\n",
       "      <td>0</td>\n",
       "      <td>0.0</td>\n",
       "      <td>20</td>\n",
       "    </tr>\n",
       "  </tbody>\n",
       "</table>\n",
       "</div>"
      ],
      "text/plain": [
       "          pickup_time  zone   weekday  hour_of_day  minute_of_day  \\\n",
       "0 2008-05-17 12:00:04   0.0  Saturday           12              0   \n",
       "1 2008-05-17 12:00:05   1.0  Saturday           12              0   \n",
       "2 2008-05-17 12:00:07   0.0  Saturday           12              0   \n",
       "3 2008-05-17 12:00:08   0.0  Saturday           12              0   \n",
       "4 2008-05-17 12:00:09   0.0  Saturday           12              0   \n",
       "\n",
       "   previous_demand  week  \n",
       "0              0.0    20  \n",
       "1              0.0    20  \n",
       "2              1.0    20  \n",
       "3              0.0    20  \n",
       "4              0.0    20  "
      ]
     },
     "execution_count": 310,
     "metadata": {},
     "output_type": "execute_result"
    }
   ],
   "source": [
    "ts_one.head()"
   ]
  },
  {
   "cell_type": "code",
   "execution_count": 311,
   "id": "single-membership",
   "metadata": {},
   "outputs": [
    {
     "name": "stderr",
     "output_type": "stream",
     "text": [
      "C:\\ProgramData\\Anaconda3\\lib\\site-packages\\ipykernel\\ipkernel.py:287: DeprecationWarning: `should_run_async` will not call `transform_cell` automatically in the future. Please pass the result to `transformed_cell` argument and any exception that happen during thetransform in `preprocessing_exc_tuple` in IPython 7.17 and above.\n",
      "  and should_run_async(code)\n"
     ]
    }
   ],
   "source": [
    "ts_hour = ts_one.groupby(['weekday','hour_of_day','minute_of_day','week'])['zone'].agg(np.sum).reset_index()"
   ]
  },
  {
   "cell_type": "code",
   "execution_count": 312,
   "id": "attractive-dairy",
   "metadata": {},
   "outputs": [
    {
     "data": {
      "text/plain": [
       "((50400, 5), (350332, 7))"
      ]
     },
     "execution_count": 312,
     "metadata": {},
     "output_type": "execute_result"
    }
   ],
   "source": [
    "ts_hour.shape, ts_one.shape"
   ]
  },
  {
   "cell_type": "code",
   "execution_count": 313,
   "id": "aggressive-princess",
   "metadata": {},
   "outputs": [],
   "source": [
    "ts_hour.loc[ts_hour[\"zone\"] > 0, 'zone'] = 1\n",
    "ts_hour['zone'] = ts_hour['zone'].astype('category')"
   ]
  },
  {
   "cell_type": "code",
   "execution_count": 314,
   "id": "numeric-finnish",
   "metadata": {},
   "outputs": [
    {
     "name": "stderr",
     "output_type": "stream",
     "text": [
      "C:\\ProgramData\\Anaconda3\\lib\\site-packages\\ipykernel\\ipkernel.py:287: DeprecationWarning: `should_run_async` will not call `transform_cell` automatically in the future. Please pass the result to `transformed_cell` argument and any exception that happen during thetransform in `preprocessing_exc_tuple` in IPython 7.17 and above.\n",
      "  and should_run_async(code)\n"
     ]
    },
    {
     "data": {
      "image/png": "[encoded data removed]",
      "text/plain": [
       "<Figure size 792x648 with 1 Axes>"
      ]
     },
     "metadata": {},
     "output_type": "display_data"
    }
   ],
   "source": [
    "plt.figure(figsize = (11,9))\n",
    "#plt.rcParams.update({'font.size': 30})\n",
    "sns.countplot(x = ts_hour['zone'], data = ts_hour)\n",
    "plt.title('cluster zero')\n",
    "plt.show()"
   ]
  },
  {
   "cell_type": "code",
   "execution_count": 315,
   "id": "located-remove",
   "metadata": {},
   "outputs": [
    {
     "data": {
      "text/plain": [
       "zone\n",
       "0.0    28511\n",
       "1.0    21889\n",
       "Name: zone, dtype: int64"
      ]
     },
     "execution_count": 315,
     "metadata": {},
     "output_type": "execute_result"
    }
   ],
   "source": [
    "ts_hour.groupby('zone')['zone'].count()"
   ]
  },
  {
   "cell_type": "code",
   "execution_count": 316,
   "id": "regular-funeral",
   "metadata": {},
   "outputs": [],
   "source": [
    "ts_hour = pd.get_dummies(data = ts_hour, columns = ['weekday'], dtype= int)"
   ]
  },
  {
   "cell_type": "code",
   "execution_count": 317,
   "id": "cheap-invite",
   "metadata": {},
   "outputs": [
    {
     "data": {
      "text/plain": [
       "hour_of_day             int64\n",
       "minute_of_day           int64\n",
       "week                    int64\n",
       "zone                 category\n",
       "weekday_Friday          int32\n",
       "weekday_Monday          int32\n",
       "weekday_Saturday        int32\n",
       "weekday_Sunday          int32\n",
       "weekday_Thursday        int32\n",
       "weekday_Tuesday         int32\n",
       "weekday_Wednesday       int32\n",
       "dtype: object"
      ]
     },
     "execution_count": 317,
     "metadata": {},
     "output_type": "execute_result"
    }
   ],
   "source": [
    "ts_hour.dtypes"
   ]
  },
  {
   "cell_type": "code",
   "execution_count": 318,
   "id": "eight-trinity",
   "metadata": {},
   "outputs": [],
   "source": [
    "ts_one = ts_one.set_index('pickup_time')\n",
    "ts_one = ts_one.sort_index()"
   ]
  },
  {
   "cell_type": "code",
   "execution_count": 319,
   "id": "sorted-blanket",
   "metadata": {},
   "outputs": [
    {
     "data": {
      "text/html": [
       "<div>\n",
       "<style scoped>\n",
       "    .dataframe tbody tr th:only-of-type {\n",
       "        vertical-align: middle;\n",
       "    }\n",
       "\n",
       "    .dataframe tbody tr th {\n",
       "        vertical-align: top;\n",
       "    }\n",
       "\n",
       "    .dataframe thead th {\n",
       "        text-align: right;\n",
       "    }\n",
       "</style>\n",
       "<table border=\"1\" class=\"dataframe\">\n",
       "  <thead>\n",
       "    <tr style=\"text-align: right;\">\n",
       "      <th></th>\n",
       "      <th>hour_of_day</th>\n",
       "      <th>minute_of_day</th>\n",
       "      <th>week</th>\n",
       "      <th>zone</th>\n",
       "      <th>weekday_Friday</th>\n",
       "      <th>weekday_Monday</th>\n",
       "      <th>weekday_Saturday</th>\n",
       "      <th>weekday_Sunday</th>\n",
       "      <th>weekday_Thursday</th>\n",
       "      <th>weekday_Tuesday</th>\n",
       "      <th>weekday_Wednesday</th>\n",
       "    </tr>\n",
       "  </thead>\n",
       "  <tbody>\n",
       "    <tr>\n",
       "      <th>0</th>\n",
       "      <td>0</td>\n",
       "      <td>0</td>\n",
       "      <td>20</td>\n",
       "      <td>0.0</td>\n",
       "      <td>1</td>\n",
       "      <td>0</td>\n",
       "      <td>0</td>\n",
       "      <td>0</td>\n",
       "      <td>0</td>\n",
       "      <td>0</td>\n",
       "      <td>0</td>\n",
       "    </tr>\n",
       "    <tr>\n",
       "      <th>1</th>\n",
       "      <td>0</td>\n",
       "      <td>0</td>\n",
       "      <td>21</td>\n",
       "      <td>0.0</td>\n",
       "      <td>1</td>\n",
       "      <td>0</td>\n",
       "      <td>0</td>\n",
       "      <td>0</td>\n",
       "      <td>0</td>\n",
       "      <td>0</td>\n",
       "      <td>0</td>\n",
       "    </tr>\n",
       "    <tr>\n",
       "      <th>2</th>\n",
       "      <td>0</td>\n",
       "      <td>0</td>\n",
       "      <td>22</td>\n",
       "      <td>0.0</td>\n",
       "      <td>1</td>\n",
       "      <td>0</td>\n",
       "      <td>0</td>\n",
       "      <td>0</td>\n",
       "      <td>0</td>\n",
       "      <td>0</td>\n",
       "      <td>0</td>\n",
       "    </tr>\n",
       "    <tr>\n",
       "      <th>3</th>\n",
       "      <td>0</td>\n",
       "      <td>0</td>\n",
       "      <td>23</td>\n",
       "      <td>1.0</td>\n",
       "      <td>1</td>\n",
       "      <td>0</td>\n",
       "      <td>0</td>\n",
       "      <td>0</td>\n",
       "      <td>0</td>\n",
       "      <td>0</td>\n",
       "      <td>0</td>\n",
       "    </tr>\n",
       "    <tr>\n",
       "      <th>4</th>\n",
       "      <td>0</td>\n",
       "      <td>0</td>\n",
       "      <td>24</td>\n",
       "      <td>0.0</td>\n",
       "      <td>1</td>\n",
       "      <td>0</td>\n",
       "      <td>0</td>\n",
       "      <td>0</td>\n",
       "      <td>0</td>\n",
       "      <td>0</td>\n",
       "      <td>0</td>\n",
       "    </tr>\n",
       "  </tbody>\n",
       "</table>\n",
       "</div>"
      ],
      "text/plain": [
       "   hour_of_day  minute_of_day  week zone  weekday_Friday  weekday_Monday  \\\n",
       "0            0              0    20  0.0               1               0   \n",
       "1            0              0    21  0.0               1               0   \n",
       "2            0              0    22  0.0               1               0   \n",
       "3            0              0    23  1.0               1               0   \n",
       "4            0              0    24  0.0               1               0   \n",
       "\n",
       "   weekday_Saturday  weekday_Sunday  weekday_Thursday  weekday_Tuesday  \\\n",
       "0                 0               0                 0                0   \n",
       "1                 0               0                 0                0   \n",
       "2                 0               0                 0                0   \n",
       "3                 0               0                 0                0   \n",
       "4                 0               0                 0                0   \n",
       "\n",
       "   weekday_Wednesday  \n",
       "0                  0  \n",
       "1                  0  \n",
       "2                  0  \n",
       "3                  0  \n",
       "4                  0  "
      ]
     },
     "execution_count": 319,
     "metadata": {},
     "output_type": "execute_result"
    }
   ],
   "source": [
    "ts_hour.head()"
   ]
  },
  {
   "cell_type": "markdown",
   "id": "protective-dynamics",
   "metadata": {},
   "source": [
    "<h2 id=\"Model-Training\">Model-Training</h2>"
   ]
  },
  {
   "cell_type": "markdown",
   "id": "variable-destruction",
   "metadata": {},
   "source": [
    "<h3 id=\"Train-test split\">Train-test split</h3>"
   ]
  },
  {
   "cell_type": "code",
   "execution_count": 320,
   "id": "broke-polymer",
   "metadata": {},
   "outputs": [
    {
     "name": "stderr",
     "output_type": "stream",
     "text": [
      "C:\\ProgramData\\Anaconda3\\lib\\site-packages\\ipykernel\\ipkernel.py:287: DeprecationWarning: `should_run_async` will not call `transform_cell` automatically in the future. Please pass the result to `transformed_cell` argument and any exception that happen during thetransform in `preprocessing_exc_tuple` in IPython 7.17 and above.\n",
      "  and should_run_async(code)\n"
     ]
    }
   ],
   "source": [
    "# train test split\n",
    "x_train, x_test, y_train, y_test = train_test_split(ts_hour.loc[:, ~ts_hour.columns.isin(['zone'])], ts_hour['zone'], test_size=0.1,  stratify=ts_hour['zone'], random_state = 1)"
   ]
  },
  {
   "cell_type": "markdown",
   "id": "ambient-throat",
   "metadata": {},
   "source": [
    "<h3 id=\"Up-sampling\">Up-sampling</h3>"
   ]
  },
  {
   "cell_type": "code",
   "execution_count": 321,
   "id": "acceptable-quarterly",
   "metadata": {},
   "outputs": [
    {
     "name": "stderr",
     "output_type": "stream",
     "text": [
      "C:\\ProgramData\\Anaconda3\\lib\\site-packages\\ipykernel\\ipkernel.py:287: DeprecationWarning: `should_run_async` will not call `transform_cell` automatically in the future. Please pass the result to `transformed_cell` argument and any exception that happen during thetransform in `preprocessing_exc_tuple` in IPython 7.17 and above.\n",
      "  and should_run_async(code)\n"
     ]
    }
   ],
   "source": [
    "x_train['zone'] = y_train"
   ]
  },
  {
   "cell_type": "code",
   "execution_count": 322,
   "id": "eight-monkey",
   "metadata": {},
   "outputs": [],
   "source": [
    "minority = x_train[x_train['zone'] == 1]\n",
    "majority  = x_train[x_train['zone'] == 0]"
   ]
  },
  {
   "cell_type": "code",
   "execution_count": 323,
   "id": "interesting-protection",
   "metadata": {},
   "outputs": [
    {
     "data": {
      "text/plain": [
       "((19700, 11), (25660, 11))"
      ]
     },
     "execution_count": 323,
     "metadata": {},
     "output_type": "execute_result"
    }
   ],
   "source": [
    "minority.shape, majority.shape"
   ]
  },
  {
   "cell_type": "code",
   "execution_count": 324,
   "id": "heard-cookbook",
   "metadata": {},
   "outputs": [
    {
     "name": "stdout",
     "output_type": "stream",
     "text": [
      "(25660, 11)\n"
     ]
    }
   ],
   "source": [
    "rides_upsample = resample(minority,\n",
    "             replace=True,\n",
    "             n_samples=len(majority),\n",
    "             random_state=42)\n",
    "\n",
    "print(rides_upsample.shape)"
   ]
  },
  {
   "cell_type": "code",
   "execution_count": 325,
   "id": "homeless-vintage",
   "metadata": {},
   "outputs": [],
   "source": [
    "train = pd.concat([rides_upsample, majority])"
   ]
  },
  {
   "cell_type": "code",
   "execution_count": 326,
   "id": "dried-trigger",
   "metadata": {},
   "outputs": [],
   "source": [
    "train = train.sort_index()"
   ]
  },
  {
   "cell_type": "code",
   "execution_count": 327,
   "id": "dying-preliminary",
   "metadata": {},
   "outputs": [
    {
     "data": {
      "text/html": [
       "<div>\n",
       "<style scoped>\n",
       "    .dataframe tbody tr th:only-of-type {\n",
       "        vertical-align: middle;\n",
       "    }\n",
       "\n",
       "    .dataframe tbody tr th {\n",
       "        vertical-align: top;\n",
       "    }\n",
       "\n",
       "    .dataframe thead th {\n",
       "        text-align: right;\n",
       "    }\n",
       "</style>\n",
       "<table border=\"1\" class=\"dataframe\">\n",
       "  <thead>\n",
       "    <tr style=\"text-align: right;\">\n",
       "      <th></th>\n",
       "      <th>hour_of_day</th>\n",
       "      <th>minute_of_day</th>\n",
       "      <th>week</th>\n",
       "      <th>weekday_Friday</th>\n",
       "      <th>weekday_Monday</th>\n",
       "      <th>weekday_Saturday</th>\n",
       "      <th>weekday_Sunday</th>\n",
       "      <th>weekday_Thursday</th>\n",
       "      <th>weekday_Tuesday</th>\n",
       "      <th>weekday_Wednesday</th>\n",
       "      <th>zone</th>\n",
       "    </tr>\n",
       "  </thead>\n",
       "  <tbody>\n",
       "    <tr>\n",
       "      <th>0</th>\n",
       "      <td>0</td>\n",
       "      <td>0</td>\n",
       "      <td>20</td>\n",
       "      <td>1</td>\n",
       "      <td>0</td>\n",
       "      <td>0</td>\n",
       "      <td>0</td>\n",
       "      <td>0</td>\n",
       "      <td>0</td>\n",
       "      <td>0</td>\n",
       "      <td>0.0</td>\n",
       "    </tr>\n",
       "    <tr>\n",
       "      <th>1</th>\n",
       "      <td>0</td>\n",
       "      <td>0</td>\n",
       "      <td>21</td>\n",
       "      <td>1</td>\n",
       "      <td>0</td>\n",
       "      <td>0</td>\n",
       "      <td>0</td>\n",
       "      <td>0</td>\n",
       "      <td>0</td>\n",
       "      <td>0</td>\n",
       "      <td>0.0</td>\n",
       "    </tr>\n",
       "    <tr>\n",
       "      <th>2</th>\n",
       "      <td>0</td>\n",
       "      <td>0</td>\n",
       "      <td>22</td>\n",
       "      <td>1</td>\n",
       "      <td>0</td>\n",
       "      <td>0</td>\n",
       "      <td>0</td>\n",
       "      <td>0</td>\n",
       "      <td>0</td>\n",
       "      <td>0</td>\n",
       "      <td>0.0</td>\n",
       "    </tr>\n",
       "    <tr>\n",
       "      <th>3</th>\n",
       "      <td>0</td>\n",
       "      <td>0</td>\n",
       "      <td>23</td>\n",
       "      <td>1</td>\n",
       "      <td>0</td>\n",
       "      <td>0</td>\n",
       "      <td>0</td>\n",
       "      <td>0</td>\n",
       "      <td>0</td>\n",
       "      <td>0</td>\n",
       "      <td>1.0</td>\n",
       "    </tr>\n",
       "    <tr>\n",
       "      <th>4</th>\n",
       "      <td>0</td>\n",
       "      <td>0</td>\n",
       "      <td>24</td>\n",
       "      <td>1</td>\n",
       "      <td>0</td>\n",
       "      <td>0</td>\n",
       "      <td>0</td>\n",
       "      <td>0</td>\n",
       "      <td>0</td>\n",
       "      <td>0</td>\n",
       "      <td>0.0</td>\n",
       "    </tr>\n",
       "  </tbody>\n",
       "</table>\n",
       "</div>"
      ],
      "text/plain": [
       "   hour_of_day  minute_of_day  week  weekday_Friday  weekday_Monday  \\\n",
       "0            0              0    20               1               0   \n",
       "1            0              0    21               1               0   \n",
       "2            0              0    22               1               0   \n",
       "3            0              0    23               1               0   \n",
       "4            0              0    24               1               0   \n",
       "\n",
       "   weekday_Saturday  weekday_Sunday  weekday_Thursday  weekday_Tuesday  \\\n",
       "0                 0               0                 0                0   \n",
       "1                 0               0                 0                0   \n",
       "2                 0               0                 0                0   \n",
       "3                 0               0                 0                0   \n",
       "4                 0               0                 0                0   \n",
       "\n",
       "   weekday_Wednesday zone  \n",
       "0                  0  0.0  \n",
       "1                  0  0.0  \n",
       "2                  0  0.0  \n",
       "3                  0  1.0  \n",
       "4                  0  0.0  "
      ]
     },
     "execution_count": 327,
     "metadata": {},
     "output_type": "execute_result"
    }
   ],
   "source": [
    "train.head()"
   ]
  },
  {
   "cell_type": "code",
   "execution_count": 328,
   "id": "seasonal-small",
   "metadata": {},
   "outputs": [
    {
     "name": "stderr",
     "output_type": "stream",
     "text": [
      "C:\\ProgramData\\Anaconda3\\lib\\site-packages\\ipykernel\\ipkernel.py:287: DeprecationWarning: `should_run_async` will not call `transform_cell` automatically in the future. Please pass the result to `transformed_cell` argument and any exception that happen during thetransform in `preprocessing_exc_tuple` in IPython 7.17 and above.\n",
      "  and should_run_async(code)\n"
     ]
    }
   ],
   "source": [
    "y_train = train['zone']\n",
    "x_train = train.iloc[:,0:10]"
   ]
  },
  {
   "cell_type": "code",
   "execution_count": 329,
   "id": "opening-lloyd",
   "metadata": {},
   "outputs": [
    {
     "data": {
      "text/html": [
       "<div>\n",
       "<style scoped>\n",
       "    .dataframe tbody tr th:only-of-type {\n",
       "        vertical-align: middle;\n",
       "    }\n",
       "\n",
       "    .dataframe tbody tr th {\n",
       "        vertical-align: top;\n",
       "    }\n",
       "\n",
       "    .dataframe thead th {\n",
       "        text-align: right;\n",
       "    }\n",
       "</style>\n",
       "<table border=\"1\" class=\"dataframe\">\n",
       "  <thead>\n",
       "    <tr style=\"text-align: right;\">\n",
       "      <th></th>\n",
       "      <th>hour_of_day</th>\n",
       "      <th>minute_of_day</th>\n",
       "      <th>week</th>\n",
       "      <th>weekday_Friday</th>\n",
       "      <th>weekday_Monday</th>\n",
       "      <th>weekday_Saturday</th>\n",
       "      <th>weekday_Sunday</th>\n",
       "      <th>weekday_Thursday</th>\n",
       "      <th>weekday_Tuesday</th>\n",
       "      <th>weekday_Wednesday</th>\n",
       "    </tr>\n",
       "  </thead>\n",
       "  <tbody>\n",
       "    <tr>\n",
       "      <th>0</th>\n",
       "      <td>0</td>\n",
       "      <td>0</td>\n",
       "      <td>20</td>\n",
       "      <td>1</td>\n",
       "      <td>0</td>\n",
       "      <td>0</td>\n",
       "      <td>0</td>\n",
       "      <td>0</td>\n",
       "      <td>0</td>\n",
       "      <td>0</td>\n",
       "    </tr>\n",
       "    <tr>\n",
       "      <th>1</th>\n",
       "      <td>0</td>\n",
       "      <td>0</td>\n",
       "      <td>21</td>\n",
       "      <td>1</td>\n",
       "      <td>0</td>\n",
       "      <td>0</td>\n",
       "      <td>0</td>\n",
       "      <td>0</td>\n",
       "      <td>0</td>\n",
       "      <td>0</td>\n",
       "    </tr>\n",
       "    <tr>\n",
       "      <th>2</th>\n",
       "      <td>0</td>\n",
       "      <td>0</td>\n",
       "      <td>22</td>\n",
       "      <td>1</td>\n",
       "      <td>0</td>\n",
       "      <td>0</td>\n",
       "      <td>0</td>\n",
       "      <td>0</td>\n",
       "      <td>0</td>\n",
       "      <td>0</td>\n",
       "    </tr>\n",
       "    <tr>\n",
       "      <th>3</th>\n",
       "      <td>0</td>\n",
       "      <td>0</td>\n",
       "      <td>23</td>\n",
       "      <td>1</td>\n",
       "      <td>0</td>\n",
       "      <td>0</td>\n",
       "      <td>0</td>\n",
       "      <td>0</td>\n",
       "      <td>0</td>\n",
       "      <td>0</td>\n",
       "    </tr>\n",
       "    <tr>\n",
       "      <th>4</th>\n",
       "      <td>0</td>\n",
       "      <td>0</td>\n",
       "      <td>24</td>\n",
       "      <td>1</td>\n",
       "      <td>0</td>\n",
       "      <td>0</td>\n",
       "      <td>0</td>\n",
       "      <td>0</td>\n",
       "      <td>0</td>\n",
       "      <td>0</td>\n",
       "    </tr>\n",
       "  </tbody>\n",
       "</table>\n",
       "</div>"
      ],
      "text/plain": [
       "   hour_of_day  minute_of_day  week  weekday_Friday  weekday_Monday  \\\n",
       "0            0              0    20               1               0   \n",
       "1            0              0    21               1               0   \n",
       "2            0              0    22               1               0   \n",
       "3            0              0    23               1               0   \n",
       "4            0              0    24               1               0   \n",
       "\n",
       "   weekday_Saturday  weekday_Sunday  weekday_Thursday  weekday_Tuesday  \\\n",
       "0                 0               0                 0                0   \n",
       "1                 0               0                 0                0   \n",
       "2                 0               0                 0                0   \n",
       "3                 0               0                 0                0   \n",
       "4                 0               0                 0                0   \n",
       "\n",
       "   weekday_Wednesday  \n",
       "0                  0  \n",
       "1                  0  \n",
       "2                  0  \n",
       "3                  0  \n",
       "4                  0  "
      ]
     },
     "execution_count": 329,
     "metadata": {},
     "output_type": "execute_result"
    }
   ],
   "source": [
    "x_train.head()"
   ]
  },
  {
   "cell_type": "code",
   "execution_count": 330,
   "id": "linear-mustang",
   "metadata": {},
   "outputs": [
    {
     "name": "stderr",
     "output_type": "stream",
     "text": [
      "C:\\ProgramData\\Anaconda3\\lib\\site-packages\\ipykernel\\ipkernel.py:287: DeprecationWarning: `should_run_async` will not call `transform_cell` automatically in the future. Please pass the result to `transformed_cell` argument and any exception that happen during thetransform in `preprocessing_exc_tuple` in IPython 7.17 and above.\n",
      "  and should_run_async(code)\n",
      "C:\\ProgramData\\Anaconda3\\lib\\site-packages\\pandas\\io\\formats\\format.py:1403: FutureWarning: Index.ravel returning ndarray is deprecated; in a future version this will return a view on self.\n",
      "  for val, m in zip(values.ravel(), mask.ravel())\n"
     ]
    },
    {
     "data": {
      "text/plain": [
       "0    0.0\n",
       "1    0.0\n",
       "2    0.0\n",
       "3    1.0\n",
       "4    0.0\n",
       "Name: zone, dtype: category\n",
       "Categories (2, float64): [0.0, 1.0]"
      ]
     },
     "execution_count": 330,
     "metadata": {},
     "output_type": "execute_result"
    }
   ],
   "source": [
    "y_train.head()"
   ]
  },
  {
   "cell_type": "code",
   "execution_count": 331,
   "id": "palestinian-cameroon",
   "metadata": {},
   "outputs": [
    {
     "name": "stderr",
     "output_type": "stream",
     "text": [
      "C:\\ProgramData\\Anaconda3\\lib\\site-packages\\ipykernel\\ipkernel.py:287: DeprecationWarning: `should_run_async` will not call `transform_cell` automatically in the future. Please pass the result to `transformed_cell` argument and any exception that happen during thetransform in `preprocessing_exc_tuple` in IPython 7.17 and above.\n",
      "  and should_run_async(code)\n",
      "C:\\ProgramData\\Anaconda3\\lib\\site-packages\\pandas\\io\\formats\\format.py:1403: FutureWarning: Index.ravel returning ndarray is deprecated; in a future version this will return a view on self.\n",
      "  for val, m in zip(values.ravel(), mask.ravel())\n"
     ]
    },
    {
     "data": {
      "image/png": "[encoded data removed]",
      "text/plain": [
       "<Figure size 792x648 with 1 Axes>"
      ]
     },
     "metadata": {},
     "output_type": "display_data"
    }
   ],
   "source": [
    "plt.figure(figsize = (11,9))\n",
    "#plt.rcParams.update({'font.size': 30})\n",
    "sns.countplot(x = train['zone'], data = train)\n",
    "plt.title('cluster zero')\n",
    "plt.show()"
   ]
  },
  {
   "cell_type": "code",
   "execution_count": null,
   "id": "latin-alaska",
   "metadata": {},
   "outputs": [],
   "source": []
  },
  {
   "cell_type": "markdown",
   "id": "indian-agent",
   "metadata": {},
   "source": [
    "<h3 id=\"logistic regression\">logistic regression</h3>"
   ]
  },
  {
   "cell_type": "code",
   "execution_count": 332,
   "id": "accessory-paradise",
   "metadata": {},
   "outputs": [
    {
     "name": "stderr",
     "output_type": "stream",
     "text": [
      "C:\\ProgramData\\Anaconda3\\lib\\site-packages\\ipykernel\\ipkernel.py:287: DeprecationWarning: `should_run_async` will not call `transform_cell` automatically in the future. Please pass the result to `transformed_cell` argument and any exception that happen during thetransform in `preprocessing_exc_tuple` in IPython 7.17 and above.\n",
      "  and should_run_async(code)\n",
      "C:\\ProgramData\\Anaconda3\\lib\\site-packages\\sklearn\\model_selection\\_search.py:921: UserWarning: One or more of the test scores are non-finite: [0.57581723        nan 0.57575545        nan 0.58516571 0.58222249\n",
      " 0.61020524 0.60546606        nan        nan        nan        nan\n",
      " 0.57581723        nan 0.5757332         nan        nan 0.57575545\n",
      " 0.60564284        nan 0.57587346 0.57328706 0.57575545 0.60840148\n",
      " 0.57576086        nan 0.57581723        nan 0.57581723 0.575783\n",
      " 0.61077602        nan 0.57581723        nan 0.57581723 0.57557557\n",
      "        nan 0.57581723 0.60768825        nan 0.57775931 0.57561443\n",
      " 0.60800554 0.58781416        nan 0.61041467        nan        nan\n",
      "        nan        nan]\n",
      "  category=UserWarning\n"
     ]
    },
    {
     "name": "stdout",
     "output_type": "stream",
     "text": [
      "{'C': 9.544712125688203e-05, 'penalty': 'l2', 'solver': 'newton-cg'} 0.6107760199001052\n"
     ]
    }
   ],
   "source": [
    "#grid search\n",
    "kf = KFold(n_splits = 5, shuffle= True, random_state = 123)\n",
    "log_reg = LogisticRegression()\n",
    "param_grid = {'solver': ['newton-cg', 'lbfgs', 'liblinear'],'penalty': ['none', 'l1', 'l2', 'elasticnet'], 'C': loguniform(1e-5, 100) }\n",
    "log_reg_cv = RandomizedSearchCV(log_reg , param_grid, n_iter=50, scoring='f1', n_jobs=-1, cv=kf, random_state=1)\n",
    "log_reg_cv.fit(x_train, y_train)\n",
    "print(log_reg_cv.best_params_, log_reg_cv.best_score_)"
   ]
  },
  {
   "cell_type": "code",
   "execution_count": 333,
   "id": "oriented-iceland",
   "metadata": {},
   "outputs": [
    {
     "name": "stderr",
     "output_type": "stream",
     "text": [
      "C:\\ProgramData\\Anaconda3\\lib\\site-packages\\ipykernel\\ipkernel.py:287: DeprecationWarning: `should_run_async` will not call `transform_cell` automatically in the future. Please pass the result to `transformed_cell` argument and any exception that happen during thetransform in `preprocessing_exc_tuple` in IPython 7.17 and above.\n",
      "  and should_run_async(code)\n"
     ]
    }
   ],
   "source": [
    "# Predict probabilities\n",
    "y_pred_probs = log_reg_cv.predict_proba(x_test)[:, 1]"
   ]
  },
  {
   "cell_type": "code",
   "execution_count": 334,
   "id": "reverse-picnic",
   "metadata": {},
   "outputs": [
    {
     "name": "stderr",
     "output_type": "stream",
     "text": [
      "C:\\ProgramData\\Anaconda3\\lib\\site-packages\\ipykernel\\ipkernel.py:287: DeprecationWarning: `should_run_async` will not call `transform_cell` automatically in the future. Please pass the result to `transformed_cell` argument and any exception that happen during thetransform in `preprocessing_exc_tuple` in IPython 7.17 and above.\n",
      "  and should_run_async(code)\n"
     ]
    }
   ],
   "source": [
    "y_pred  = log_reg_cv.predict_proba(x_test)"
   ]
  },
  {
   "cell_type": "code",
   "execution_count": 335,
   "id": "controlled-horizon",
   "metadata": {},
   "outputs": [
    {
     "name": "stderr",
     "output_type": "stream",
     "text": [
      "C:\\ProgramData\\Anaconda3\\lib\\site-packages\\ipykernel\\ipkernel.py:287: DeprecationWarning: `should_run_async` will not call `transform_cell` automatically in the future. Please pass the result to `transformed_cell` argument and any exception that happen during thetransform in `preprocessing_exc_tuple` in IPython 7.17 and above.\n",
      "  and should_run_async(code)\n"
     ]
    },
    {
     "data": {
      "image/png": "[encoded data removed]",
      "text/plain": [
       "<Figure size 432x288 with 1 Axes>"
      ]
     },
     "metadata": {},
     "output_type": "display_data"
    }
   ],
   "source": [
    "# Generate ROC curve values: fpr, tpr, thresholds\n",
    "fpr, tpr, thresholds = roc_curve(y_test, y_pred_probs)\n",
    "\n",
    "plt.plot([0, 1], [0, 1], 'k--')\n",
    "\n",
    "# Plot tpr against fpr\n",
    "plt.plot(fpr, tpr)\n",
    "plt.xlabel('False Positive Rate')\n",
    "plt.ylabel('True Positive Rate')\n",
    "plt.title('ROC Curve for Diabetes Prediction')\n",
    "plt.show()"
   ]
  },
  {
   "cell_type": "markdown",
   "id": "passive-healthcare",
   "metadata": {},
   "source": [
    "<h3 id=\"Train-test split\">Train-test split</h3>"
   ]
  },
  {
   "cell_type": "code",
   "execution_count": 336,
   "id": "breeding-angle",
   "metadata": {},
   "outputs": [
    {
     "name": "stderr",
     "output_type": "stream",
     "text": [
      "C:\\ProgramData\\Anaconda3\\lib\\site-packages\\ipykernel\\ipkernel.py:287: DeprecationWarning: `should_run_async` will not call `transform_cell` automatically in the future. Please pass the result to `transformed_cell` argument and any exception that happen during thetransform in `preprocessing_exc_tuple` in IPython 7.17 and above.\n",
      "  and should_run_async(code)\n"
     ]
    }
   ],
   "source": [
    "preds=[ 1 if i<j else 0 for i,j in   y_pred ] "
   ]
  },
  {
   "cell_type": "code",
   "execution_count": 337,
   "id": "compound-disposal",
   "metadata": {},
   "outputs": [
    {
     "name": "stdout",
     "output_type": "stream",
     "text": [
      "0.6033844968601177\n",
      "[[1720 1131]\n",
      " [ 868 1321]]\n",
      "              precision    recall  f1-score   support\n",
      "\n",
      "         0.0       0.66      0.60      0.63      2851\n",
      "         1.0       0.54      0.60      0.57      2189\n",
      "\n",
      "    accuracy                           0.60      5040\n",
      "   macro avg       0.60      0.60      0.60      5040\n",
      "weighted avg       0.61      0.60      0.61      5040\n",
      "\n"
     ]
    }
   ],
   "source": [
    "print(roc_auc_score(y_test, preds))\n",
    "\n",
    "#Calculate the confusion matrix\n",
    "print(confusion_matrix(y_test, preds))\n",
    "\n",
    "#Calculate the classification report\n",
    "print(classification_report(y_test, preds))"
   ]
  },
  {
   "cell_type": "code",
   "execution_count": null,
   "id": "subtle-airfare",
   "metadata": {},
   "outputs": [],
   "source": []
  },
  {
   "cell_type": "code",
   "execution_count": null,
   "id": "infrared-component",
   "metadata": {},
   "outputs": [],
   "source": []
  },
  {
   "cell_type": "markdown",
   "id": "hazardous-seminar",
   "metadata": {},
   "source": [
    "<h3 id=\"Naive-model\">Naive model</h3>\n",
    "\n",
    "Let us simiulate a random guess to determine if our predictions are better than a random guess"
   ]
  },
  {
   "cell_type": "code",
   "execution_count": 338,
   "id": "formed-possible",
   "metadata": {},
   "outputs": [
    {
     "name": "stderr",
     "output_type": "stream",
     "text": [
      "C:\\ProgramData\\Anaconda3\\lib\\site-packages\\ipykernel\\ipkernel.py:287: DeprecationWarning: `should_run_async` will not call `transform_cell` automatically in the future. Please pass the result to `transformed_cell` argument and any exception that happen during thetransform in `preprocessing_exc_tuple` in IPython 7.17 and above.\n",
      "  and should_run_async(code)\n"
     ]
    }
   ],
   "source": [
    "n = len(y_test)"
   ]
  },
  {
   "cell_type": "code",
   "execution_count": 417,
   "id": "wanted-satellite",
   "metadata": {},
   "outputs": [
    {
     "name": "stderr",
     "output_type": "stream",
     "text": [
      "C:\\ProgramData\\Anaconda3\\lib\\site-packages\\ipykernel\\ipkernel.py:287: DeprecationWarning: `should_run_async` will not call `transform_cell` automatically in the future. Please pass the result to `transformed_cell` argument and any exception that happen during thetransform in `preprocessing_exc_tuple` in IPython 7.17 and above.\n",
      "  and should_run_async(code)\n"
     ]
    }
   ],
   "source": [
    "region  = 9"
   ]
  },
  {
   "cell_type": "code",
   "execution_count": 418,
   "id": "durable-heading",
   "metadata": {},
   "outputs": [],
   "source": [
    "ts_one2  = pd.Series(df_crosstab[region]).reset_index()"
   ]
  },
  {
   "cell_type": "code",
   "execution_count": 419,
   "id": "settled-allah",
   "metadata": {},
   "outputs": [],
   "source": [
    "p = sum(ts_one2[region])/len(ts_one2[region])"
   ]
  },
  {
   "cell_type": "code",
   "execution_count": 420,
   "id": "familiar-jenny",
   "metadata": {},
   "outputs": [
    {
     "data": {
      "text/plain": [
       "0.10433531621433383"
      ]
     },
     "execution_count": 420,
     "metadata": {},
     "output_type": "execute_result"
    }
   ],
   "source": [
    "p"
   ]
  },
  {
   "cell_type": "code",
   "execution_count": 421,
   "id": "difficult-dating",
   "metadata": {},
   "outputs": [],
   "source": [
    "def perform_bernoulli_trials(n, p):\n",
    "    n_sucess = 0\n",
    "    \n",
    "    for i in range(n):\n",
    "        rand_number = np.random.random()\n",
    "        if rand_number < p:\n",
    "            n_sucess += 1\n",
    "    return n_sucess"
   ]
  },
  {
   "cell_type": "code",
   "execution_count": 422,
   "id": "refined-title",
   "metadata": {},
   "outputs": [],
   "source": [
    "y_pred4 = np.empty(n)\n",
    "for i in range(n):\n",
    "    y_pred4[i] = perform_bernoulli_trials(1, p)"
   ]
  },
  {
   "cell_type": "code",
   "execution_count": 423,
   "id": "important-editor",
   "metadata": {},
   "outputs": [
    {
     "name": "stdout",
     "output_type": "stream",
     "text": [
      "[[2565  286]\n",
      " [1966  223]]\n",
      "              precision    recall  f1-score   support\n",
      "\n",
      "         0.0       0.57      0.90      0.69      2851\n",
      "         1.0       0.44      0.10      0.17      2189\n",
      "\n",
      "    accuracy                           0.55      5040\n",
      "   macro avg       0.50      0.50      0.43      5040\n",
      "weighted avg       0.51      0.55      0.46      5040\n",
      "\n",
      "0.5007786613306319\n"
     ]
    }
   ],
   "source": [
    "print(confusion_matrix(y_test, y_pred4))\n",
    "print(classification_report(y_test, y_pred4))\n",
    "print(roc_auc_score(y_test, y_pred4))"
   ]
  },
  {
   "cell_type": "code",
   "execution_count": null,
   "id": "excellent-difficulty",
   "metadata": {},
   "outputs": [],
   "source": []
  },
  {
   "cell_type": "code",
   "execution_count": null,
   "id": "accredited-estimate",
   "metadata": {},
   "outputs": [],
   "source": []
  }
 ],
 "metadata": {
  "kernelspec": {
   "display_name": "Python 3",
   "language": "python",
   "name": "python3"
  },
  "language_info": {
   "codemirror_mode": {
    "name": "ipython",
    "version": 3
   },
   "file_extension": ".py",
   "mimetype": "text/x-python",
   "name": "python",
   "nbconvert_exporter": "python",
   "pygments_lexer": "ipython3",
   "version": "3.7.4"
  }
 },
 "nbformat": 4,
 "nbformat_minor": 5
}
