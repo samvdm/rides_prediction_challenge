{
 "cells": [
  {
   "cell_type": "markdown",
   "id": "unexpected-sharp",
   "metadata": {},
   "source": [
    "## Estimation of CO2 Emissions from empty trips"
   ]
  },
  {
   "cell_type": "code",
   "execution_count": 3,
   "id": "infrared-mountain",
   "metadata": {
    "executionInfo": {
     "elapsed": 947,
     "status": "ok",
     "timestamp": 1662488557758,
     "user": {
      "displayName": "Samantha Zambezi",
      "userId": "02225658030014759105"
     },
     "user_tz": -120
    },
    "id": "valuable-deployment"
   },
   "outputs": [],
   "source": [
    "import s3fs\n",
    "import tarfile\n",
    "import io\n",
    "import pandas as pd\n",
    "import re\n",
    "import matplotlib.pyplot as plt\n",
    "import seaborn as sns\n",
    "import numpy as np\n",
    "import glob\n",
    "import datetime\n",
    "import random\n",
    "random.seed(42)\n",
    "import h3"
   ]
  },
  {
   "cell_type": "code",
   "execution_count": 6,
   "id": "ruled-madness",
   "metadata": {
    "colab": {
     "base_uri": "https://localhost:8080/"
    },
    "executionInfo": {
     "elapsed": 40591,
     "status": "ok",
     "timestamp": 1662485681979,
     "user": {
      "displayName": "Samantha Zambezi",
      "userId": "02225658030014759105"
     },
     "user_tz": -120
    },
    "id": "mzF85dhO3C4Y",
    "outputId": "0419ab19-960d-4913-e705-849855b23994"
   },
   "outputs": [
    {
     "name": "stdout",
     "output_type": "stream",
     "text": [
      "Mounted at /content/drive\n"
     ]
    }
   ],
   "source": [
    "drive.mount(\"/content/drive\")"
   ]
  },
  {
   "cell_type": "markdown",
   "id": "monetary-uganda",
   "metadata": {
    "id": "celtic-static"
   },
   "source": [
    "## Reading the Data"
   ]
  },
  {
   "cell_type": "code",
   "execution_count": 9,
   "id": "polished-dubai",
   "metadata": {
    "executionInfo": {
     "elapsed": 439,
     "status": "ok",
     "timestamp": 1662485843584,
     "user": {
      "displayName": "Samantha Zambezi",
      "userId": "02225658030014759105"
     },
     "user_tz": -120
    },
    "id": "numerous-carrier"
   },
   "outputs": [],
   "source": [
    "filelist = glob.glob(\"/content/drive/MyDrive/taxicab/taxicab/cabspottingdata/*\")"
   ]
  },
  {
   "cell_type": "markdown",
   "id": "related-authorization",
   "metadata": {
    "id": "potential-module"
   },
   "source": [
    "How do we identify what is a trip? We assume that a ride is a continous sequence of records with occupancy."
   ]
  },
  {
   "cell_type": "code",
   "execution_count": 10,
   "id": "instructional-death",
   "metadata": {
    "executionInfo": {
     "elapsed": 29946,
     "status": "ok",
     "timestamp": 1662485875381,
     "user": {
      "displayName": "Samantha Zambezi",
      "userId": "02225658030014759105"
     },
     "user_tz": -120
    },
    "id": "twelve-fleece"
   },
   "outputs": [],
   "source": [
    "data = pd.DataFrame()\n",
    "names = ['lat', 'long', 'occupancy','timestamp']\n",
    "\n",
    "for i, f in enumerate(filelist):\n",
    "    tmp = pd.read_csv(f,names=names, sep = ' ')\n",
    "    tmp['cabid'] = i\n",
    "    tmp['group'] = tmp.occupancy.diff().ne(0).cumsum()\n",
    "\n",
    "    data = pd.concat([data,tmp],axis=0,ignore_index=True)"
   ]
  },
  {
   "cell_type": "code",
   "execution_count": null,
   "id": "secret-harrison",
   "metadata": {
    "id": "gorgeous-hungarian",
    "outputId": "d2f1004f-2c09-4a26-f0d1-a5aac347bb83"
   },
   "outputs": [
    {
     "name": "stderr",
     "output_type": "stream",
     "text": [
      "C:\\ProgramData\\Anaconda3\\lib\\site-packages\\ipykernel\\ipkernel.py:287: DeprecationWarning: `should_run_async` will not call `transform_cell` automatically in the future. Please pass the result to `transformed_cell` argument and any exception that happen during thetransform in `preprocessing_exc_tuple` in IPython 7.17 and above.\n",
      "  and should_run_async(code)\n"
     ]
    }
   ],
   "source": [
    "#read the sanfranisco map data\n",
    "myfile = \"C:/Users/samantha.vandermerwe/Documents/coursedata/taxicab/map/vw878wn8422.shp\"\n",
    "geo_map = gpd.read_file(myfile)"
   ]
  },
  {
   "cell_type": "code",
   "execution_count": 11,
   "id": "exempt-logging",
   "metadata": {
    "colab": {
     "base_uri": "https://localhost:8080/",
     "height": 206
    },
    "executionInfo": {
     "elapsed": 464,
     "status": "ok",
     "timestamp": 1662485977350,
     "user": {
      "displayName": "Samantha Zambezi",
      "userId": "02225658030014759105"
     },
     "user_tz": -120
    },
    "id": "broad-superintendent",
    "outputId": "16323f1d-43b5-4e1b-c92c-0f9833611643"
   },
   "outputs": [
    {
     "data": {
      "text/html": [
       "\n",
       "  <div id=\"df-38b286d1-3279-4d87-9ef0-fa4b0571afa6\">\n",
       "    <div class=\"colab-df-container\">\n",
       "      <div>\n",
       "<style scoped>\n",
       "    .dataframe tbody tr th:only-of-type {\n",
       "        vertical-align: middle;\n",
       "    }\n",
       "\n",
       "    .dataframe tbody tr th {\n",
       "        vertical-align: top;\n",
       "    }\n",
       "\n",
       "    .dataframe thead th {\n",
       "        text-align: right;\n",
       "    }\n",
       "</style>\n",
       "<table border=\"1\" class=\"dataframe\">\n",
       "  <thead>\n",
       "    <tr style=\"text-align: right;\">\n",
       "      <th></th>\n",
       "      <th>lat</th>\n",
       "      <th>long</th>\n",
       "      <th>occupancy</th>\n",
       "      <th>timestamp</th>\n",
       "      <th>cabid</th>\n",
       "      <th>group</th>\n",
       "    </tr>\n",
       "  </thead>\n",
       "  <tbody>\n",
       "    <tr>\n",
       "      <th>0</th>\n",
       "      <td>37.75323</td>\n",
       "      <td>-122.40259</td>\n",
       "      <td>0</td>\n",
       "      <td>1211023573</td>\n",
       "      <td>0</td>\n",
       "      <td>1</td>\n",
       "    </tr>\n",
       "    <tr>\n",
       "      <th>1</th>\n",
       "      <td>37.75330</td>\n",
       "      <td>-122.40248</td>\n",
       "      <td>0</td>\n",
       "      <td>1211023607</td>\n",
       "      <td>0</td>\n",
       "      <td>1</td>\n",
       "    </tr>\n",
       "    <tr>\n",
       "      <th>2</th>\n",
       "      <td>37.75449</td>\n",
       "      <td>-122.40332</td>\n",
       "      <td>0</td>\n",
       "      <td>1211023667</td>\n",
       "      <td>0</td>\n",
       "      <td>1</td>\n",
       "    </tr>\n",
       "    <tr>\n",
       "      <th>3</th>\n",
       "      <td>37.75607</td>\n",
       "      <td>-122.40662</td>\n",
       "      <td>0</td>\n",
       "      <td>1211023731</td>\n",
       "      <td>0</td>\n",
       "      <td>1</td>\n",
       "    </tr>\n",
       "    <tr>\n",
       "      <th>4</th>\n",
       "      <td>37.75597</td>\n",
       "      <td>-122.41032</td>\n",
       "      <td>0</td>\n",
       "      <td>1211023787</td>\n",
       "      <td>0</td>\n",
       "      <td>1</td>\n",
       "    </tr>\n",
       "  </tbody>\n",
       "</table>\n",
       "</div>\n",
       "      <button class=\"colab-df-convert\" onclick=\"convertToInteractive('df-38b286d1-3279-4d87-9ef0-fa4b0571afa6')\"\n",
       "              title=\"Convert this dataframe to an interactive table.\"\n",
       "              style=\"display:none;\">\n",
       "        \n",
       "  <svg xmlns=\"http://www.w3.org/2000/svg\" height=\"24px\"viewBox=\"0 0 24 24\"\n",
       "       width=\"24px\">\n",
       "    <path d=\"M0 0h24v24H0V0z\" fill=\"none\"/>\n",
       "    <path d=\"M18.56 5.44l.94 2.06.94-2.06 2.06-.94-2.06-.94-.94-2.06-.94 2.06-2.06.94zm-11 1L8.5 8.5l.94-2.06 2.06-.94-2.06-.94L8.5 2.5l-.94 2.06-2.06.94zm10 10l.94 2.06.94-2.06 2.06-.94-2.06-.94-.94-2.06-.94 2.06-2.06.94z\"/><path d=\"M17.41 7.96l-1.37-1.37c-.4-.4-.92-.59-1.43-.59-.52 0-1.04.2-1.43.59L10.3 9.45l-7.72 7.72c-.78.78-.78 2.05 0 2.83L4 21.41c.39.39.9.59 1.41.59.51 0 1.02-.2 1.41-.59l7.78-7.78 2.81-2.81c.8-.78.8-2.07 0-2.86zM5.41 20L4 18.59l7.72-7.72 1.47 1.35L5.41 20z\"/>\n",
       "  </svg>\n",
       "      </button>\n",
       "      \n",
       "  <style>\n",
       "    .colab-df-container {\n",
       "      display:flex;\n",
       "      flex-wrap:wrap;\n",
       "      gap: 12px;\n",
       "    }\n",
       "\n",
       "    .colab-df-convert {\n",
       "      background-color: #E8F0FE;\n",
       "      border: none;\n",
       "      border-radius: 50%;\n",
       "      cursor: pointer;\n",
       "      display: none;\n",
       "      fill: #1967D2;\n",
       "      height: 32px;\n",
       "      padding: 0 0 0 0;\n",
       "      width: 32px;\n",
       "    }\n",
       "\n",
       "    .colab-df-convert:hover {\n",
       "      background-color: #E2EBFA;\n",
       "      box-shadow: 0px 1px 2px rgba(60, 64, 67, 0.3), 0px 1px 3px 1px rgba(60, 64, 67, 0.15);\n",
       "      fill: #174EA6;\n",
       "    }\n",
       "\n",
       "    [theme=dark] .colab-df-convert {\n",
       "      background-color: #3B4455;\n",
       "      fill: #D2E3FC;\n",
       "    }\n",
       "\n",
       "    [theme=dark] .colab-df-convert:hover {\n",
       "      background-color: #434B5C;\n",
       "      box-shadow: 0px 1px 3px 1px rgba(0, 0, 0, 0.15);\n",
       "      filter: drop-shadow(0px 1px 2px rgba(0, 0, 0, 0.3));\n",
       "      fill: #FFFFFF;\n",
       "    }\n",
       "  </style>\n",
       "\n",
       "      <script>\n",
       "        const buttonEl =\n",
       "          document.querySelector('#df-38b286d1-3279-4d87-9ef0-fa4b0571afa6 button.colab-df-convert');\n",
       "        buttonEl.style.display =\n",
       "          google.colab.kernel.accessAllowed ? 'block' : 'none';\n",
       "\n",
       "        async function convertToInteractive(key) {\n",
       "          const element = document.querySelector('#df-38b286d1-3279-4d87-9ef0-fa4b0571afa6');\n",
       "          const dataTable =\n",
       "            await google.colab.kernel.invokeFunction('convertToInteractive',\n",
       "                                                     [key], {});\n",
       "          if (!dataTable) return;\n",
       "\n",
       "          const docLinkHtml = 'Like what you see? Visit the ' +\n",
       "            '<a target=\"_blank\" href=https://colab.research.google.com/notebooks/data_table.ipynb>data table notebook</a>'\n",
       "            + ' to learn more about interactive tables.';\n",
       "          element.innerHTML = '';\n",
       "          dataTable['output_type'] = 'display_data';\n",
       "          await google.colab.output.renderOutput(dataTable, element);\n",
       "          const docLink = document.createElement('div');\n",
       "          docLink.innerHTML = docLinkHtml;\n",
       "          element.appendChild(docLink);\n",
       "        }\n",
       "      </script>\n",
       "    </div>\n",
       "  </div>\n",
       "  "
      ],
      "text/plain": [
       "        lat       long  occupancy   timestamp  cabid  group\n",
       "0  37.75323 -122.40259          0  1211023573      0      1\n",
       "1  37.75330 -122.40248          0  1211023607      0      1\n",
       "2  37.75449 -122.40332          0  1211023667      0      1\n",
       "3  37.75607 -122.40662          0  1211023731      0      1\n",
       "4  37.75597 -122.41032          0  1211023787      0      1"
      ]
     },
     "execution_count": 11,
     "metadata": {},
     "output_type": "execute_result"
    }
   ],
   "source": [
    "#view the first five rows\n",
    "data.head()"
   ]
  },
  {
   "cell_type": "code",
   "execution_count": 12,
   "id": "architectural-emission",
   "metadata": {
    "colab": {
     "base_uri": "https://localhost:8080/"
    },
    "executionInfo": {
     "elapsed": 3,
     "status": "ok",
     "timestamp": 1662485979245,
     "user": {
      "displayName": "Samantha Zambezi",
      "userId": "02225658030014759105"
     },
     "user_tz": -120
    },
    "id": "competitive-estimate",
    "outputId": "6aa7dbe1-109b-4254-986e-1d83f8772b63"
   },
   "outputs": [
    {
     "data": {
      "text/plain": [
       "(6730831, 6)"
      ]
     },
     "execution_count": 12,
     "metadata": {},
     "output_type": "execute_result"
    }
   ],
   "source": [
    "data.shape"
   ]
  },
  {
   "cell_type": "markdown",
   "id": "north-series",
   "metadata": {
    "id": "heated-lewis"
   },
   "source": [
    "## Data Cleaning"
   ]
  },
  {
   "cell_type": "code",
   "execution_count": 16,
   "id": "hairy-vintage",
   "metadata": {
    "executionInfo": {
     "elapsed": 1533,
     "status": "ok",
     "timestamp": 1662486023913,
     "user": {
      "displayName": "Samantha Zambezi",
      "userId": "02225658030014759105"
     },
     "user_tz": -120
    },
    "id": "naughty-dinner"
   },
   "outputs": [],
   "source": [
    "#create a dataframe with only zero occupancy rides\n",
    "rides_df = data.groupby(['cabid','group']).agg({\"lat\": [min, max],\"long\": [min, max], \"timestamp\": [min, max],'occupancy':[np.mean]})\n",
    "rides_df.columns = ['pickup_lat', 'drop_lat','pickup_long', 'drop_long', 'pickup_timstamp', 'drop_timestamp', 'occupancy']\n",
    "rides_df = rides_df[rides_df['occupancy'] == 0]"
   ]
  },
  {
   "cell_type": "code",
   "execution_count": 17,
   "id": "authentic-porter",
   "metadata": {
    "executionInfo": {
     "elapsed": 2,
     "status": "ok",
     "timestamp": 1662486038926,
     "user": {
      "displayName": "Samantha Zambezi",
      "userId": "02225658030014759105"
     },
     "user_tz": -120
    },
    "id": "superior-andrew"
   },
   "outputs": [],
   "source": [
    "rides_df = rides_df.reset_index()"
   ]
  },
  {
   "cell_type": "code",
   "execution_count": 18,
   "id": "destroyed-wesley",
   "metadata": {
    "colab": {
     "base_uri": "https://localhost:8080/"
    },
    "executionInfo": {
     "elapsed": 4,
     "status": "ok",
     "timestamp": 1662486045330,
     "user": {
      "displayName": "Samantha Zambezi",
      "userId": "02225658030014759105"
     },
     "user_tz": -120
    },
    "id": "representative-brother",
    "outputId": "d747cbd5-f8a2-4d0b-9043-9557a61adb67"
   },
   "outputs": [
    {
     "data": {
      "text/plain": [
       "(277638, 9)"
      ]
     },
     "execution_count": 18,
     "metadata": {},
     "output_type": "execute_result"
    }
   ],
   "source": [
    "rides_df.shape"
   ]
  },
  {
   "cell_type": "code",
   "execution_count": 19,
   "id": "catholic-strengthening",
   "metadata": {
    "colab": {
     "base_uri": "https://localhost:8080/",
     "height": 206
    },
    "executionInfo": {
     "elapsed": 446,
     "status": "ok",
     "timestamp": 1662486183290,
     "user": {
      "displayName": "Samantha Zambezi",
      "userId": "02225658030014759105"
     },
     "user_tz": -120
    },
    "id": "incorporate-elevation",
    "outputId": "3c6ba1b1-b5b9-44ff-d63c-8f0ac1c08fb9"
   },
   "outputs": [
    {
     "data": {
      "text/html": [
       "\n",
       "  <div id=\"df-e8aecced-0ca8-4fa0-ad9b-47ed100755ff\">\n",
       "    <div class=\"colab-df-container\">\n",
       "      <div>\n",
       "<style scoped>\n",
       "    .dataframe tbody tr th:only-of-type {\n",
       "        vertical-align: middle;\n",
       "    }\n",
       "\n",
       "    .dataframe tbody tr th {\n",
       "        vertical-align: top;\n",
       "    }\n",
       "\n",
       "    .dataframe thead th {\n",
       "        text-align: right;\n",
       "    }\n",
       "</style>\n",
       "<table border=\"1\" class=\"dataframe\">\n",
       "  <thead>\n",
       "    <tr style=\"text-align: right;\">\n",
       "      <th></th>\n",
       "      <th>cabid</th>\n",
       "      <th>group</th>\n",
       "      <th>pickup_lat</th>\n",
       "      <th>drop_lat</th>\n",
       "      <th>pickup_long</th>\n",
       "      <th>drop_long</th>\n",
       "      <th>pickup_timstamp</th>\n",
       "      <th>drop_timestamp</th>\n",
       "      <th>occupancy</th>\n",
       "    </tr>\n",
       "  </thead>\n",
       "  <tbody>\n",
       "    <tr>\n",
       "      <th>0</th>\n",
       "      <td>0</td>\n",
       "      <td>1</td>\n",
       "      <td>37.75323</td>\n",
       "      <td>37.75607</td>\n",
       "      <td>-122.41168</td>\n",
       "      <td>-122.40248</td>\n",
       "      <td>1211023573</td>\n",
       "      <td>1211023851</td>\n",
       "      <td>0.0</td>\n",
       "    </tr>\n",
       "    <tr>\n",
       "      <th>1</th>\n",
       "      <td>0</td>\n",
       "      <td>3</td>\n",
       "      <td>37.78464</td>\n",
       "      <td>37.80414</td>\n",
       "      <td>-122.48087</td>\n",
       "      <td>-122.39520</td>\n",
       "      <td>1211024444</td>\n",
       "      <td>1211025742</td>\n",
       "      <td>0.0</td>\n",
       "    </tr>\n",
       "    <tr>\n",
       "      <th>2</th>\n",
       "      <td>0</td>\n",
       "      <td>5</td>\n",
       "      <td>37.63306</td>\n",
       "      <td>37.80300</td>\n",
       "      <td>-122.44321</td>\n",
       "      <td>-122.38872</td>\n",
       "      <td>1211026989</td>\n",
       "      <td>1211031182</td>\n",
       "      <td>0.0</td>\n",
       "    </tr>\n",
       "    <tr>\n",
       "      <th>3</th>\n",
       "      <td>0</td>\n",
       "      <td>7</td>\n",
       "      <td>37.61455</td>\n",
       "      <td>37.78335</td>\n",
       "      <td>-122.40636</td>\n",
       "      <td>-122.38939</td>\n",
       "      <td>1211032084</td>\n",
       "      <td>1211034272</td>\n",
       "      <td>0.0</td>\n",
       "    </tr>\n",
       "    <tr>\n",
       "      <th>4</th>\n",
       "      <td>0</td>\n",
       "      <td>9</td>\n",
       "      <td>37.78640</td>\n",
       "      <td>37.80120</td>\n",
       "      <td>-122.41947</td>\n",
       "      <td>-122.40748</td>\n",
       "      <td>1211034563</td>\n",
       "      <td>1211035246</td>\n",
       "      <td>0.0</td>\n",
       "    </tr>\n",
       "  </tbody>\n",
       "</table>\n",
       "</div>\n",
       "      <button class=\"colab-df-convert\" onclick=\"convertToInteractive('df-e8aecced-0ca8-4fa0-ad9b-47ed100755ff')\"\n",
       "              title=\"Convert this dataframe to an interactive table.\"\n",
       "              style=\"display:none;\">\n",
       "        \n",
       "  <svg xmlns=\"http://www.w3.org/2000/svg\" height=\"24px\"viewBox=\"0 0 24 24\"\n",
       "       width=\"24px\">\n",
       "    <path d=\"M0 0h24v24H0V0z\" fill=\"none\"/>\n",
       "    <path d=\"M18.56 5.44l.94 2.06.94-2.06 2.06-.94-2.06-.94-.94-2.06-.94 2.06-2.06.94zm-11 1L8.5 8.5l.94-2.06 2.06-.94-2.06-.94L8.5 2.5l-.94 2.06-2.06.94zm10 10l.94 2.06.94-2.06 2.06-.94-2.06-.94-.94-2.06-.94 2.06-2.06.94z\"/><path d=\"M17.41 7.96l-1.37-1.37c-.4-.4-.92-.59-1.43-.59-.52 0-1.04.2-1.43.59L10.3 9.45l-7.72 7.72c-.78.78-.78 2.05 0 2.83L4 21.41c.39.39.9.59 1.41.59.51 0 1.02-.2 1.41-.59l7.78-7.78 2.81-2.81c.8-.78.8-2.07 0-2.86zM5.41 20L4 18.59l7.72-7.72 1.47 1.35L5.41 20z\"/>\n",
       "  </svg>\n",
       "      </button>\n",
       "      \n",
       "  <style>\n",
       "    .colab-df-container {\n",
       "      display:flex;\n",
       "      flex-wrap:wrap;\n",
       "      gap: 12px;\n",
       "    }\n",
       "\n",
       "    .colab-df-convert {\n",
       "      background-color: #E8F0FE;\n",
       "      border: none;\n",
       "      border-radius: 50%;\n",
       "      cursor: pointer;\n",
       "      display: none;\n",
       "      fill: #1967D2;\n",
       "      height: 32px;\n",
       "      padding: 0 0 0 0;\n",
       "      width: 32px;\n",
       "    }\n",
       "\n",
       "    .colab-df-convert:hover {\n",
       "      background-color: #E2EBFA;\n",
       "      box-shadow: 0px 1px 2px rgba(60, 64, 67, 0.3), 0px 1px 3px 1px rgba(60, 64, 67, 0.15);\n",
       "      fill: #174EA6;\n",
       "    }\n",
       "\n",
       "    [theme=dark] .colab-df-convert {\n",
       "      background-color: #3B4455;\n",
       "      fill: #D2E3FC;\n",
       "    }\n",
       "\n",
       "    [theme=dark] .colab-df-convert:hover {\n",
       "      background-color: #434B5C;\n",
       "      box-shadow: 0px 1px 3px 1px rgba(0, 0, 0, 0.15);\n",
       "      filter: drop-shadow(0px 1px 2px rgba(0, 0, 0, 0.3));\n",
       "      fill: #FFFFFF;\n",
       "    }\n",
       "  </style>\n",
       "\n",
       "      <script>\n",
       "        const buttonEl =\n",
       "          document.querySelector('#df-e8aecced-0ca8-4fa0-ad9b-47ed100755ff button.colab-df-convert');\n",
       "        buttonEl.style.display =\n",
       "          google.colab.kernel.accessAllowed ? 'block' : 'none';\n",
       "\n",
       "        async function convertToInteractive(key) {\n",
       "          const element = document.querySelector('#df-e8aecced-0ca8-4fa0-ad9b-47ed100755ff');\n",
       "          const dataTable =\n",
       "            await google.colab.kernel.invokeFunction('convertToInteractive',\n",
       "                                                     [key], {});\n",
       "          if (!dataTable) return;\n",
       "\n",
       "          const docLinkHtml = 'Like what you see? Visit the ' +\n",
       "            '<a target=\"_blank\" href=https://colab.research.google.com/notebooks/data_table.ipynb>data table notebook</a>'\n",
       "            + ' to learn more about interactive tables.';\n",
       "          element.innerHTML = '';\n",
       "          dataTable['output_type'] = 'display_data';\n",
       "          await google.colab.output.renderOutput(dataTable, element);\n",
       "          const docLink = document.createElement('div');\n",
       "          docLink.innerHTML = docLinkHtml;\n",
       "          element.appendChild(docLink);\n",
       "        }\n",
       "      </script>\n",
       "    </div>\n",
       "  </div>\n",
       "  "
      ],
      "text/plain": [
       "   cabid  group  pickup_lat  drop_lat  pickup_long  drop_long  \\\n",
       "0      0      1    37.75323  37.75607   -122.41168 -122.40248   \n",
       "1      0      3    37.78464  37.80414   -122.48087 -122.39520   \n",
       "2      0      5    37.63306  37.80300   -122.44321 -122.38872   \n",
       "3      0      7    37.61455  37.78335   -122.40636 -122.38939   \n",
       "4      0      9    37.78640  37.80120   -122.41947 -122.40748   \n",
       "\n",
       "   pickup_timstamp  drop_timestamp  occupancy  \n",
       "0       1211023573      1211023851        0.0  \n",
       "1       1211024444      1211025742        0.0  \n",
       "2       1211026989      1211031182        0.0  \n",
       "3       1211032084      1211034272        0.0  \n",
       "4       1211034563      1211035246        0.0  "
      ]
     },
     "execution_count": 19,
     "metadata": {},
     "output_type": "execute_result"
    }
   ],
   "source": [
    "rides_df.head()"
   ]
  },
  {
   "cell_type": "code",
   "execution_count": 20,
   "id": "welsh-reproduction",
   "metadata": {
    "executionInfo": {
     "elapsed": 1446,
     "status": "ok",
     "timestamp": 1662486200041,
     "user": {
      "displayName": "Samantha Zambezi",
      "userId": "02225658030014759105"
     },
     "user_tz": -120
    },
    "id": "approximate-liquid"
   },
   "outputs": [],
   "source": [
    "date  = list(rides_df['pickup_timstamp'])\n",
    "mydates =[]\n",
    "for adate in date:\n",
    "    x = datetime.datetime.fromtimestamp(adate).strftime(\"%d-%m-%Y %H:%M:%S\")\n",
    "    mydates.append(x)"
   ]
  },
  {
   "cell_type": "code",
   "execution_count": 21,
   "id": "appreciated-april",
   "metadata": {
    "executionInfo": {
     "elapsed": 1417,
     "status": "ok",
     "timestamp": 1662486201454,
     "user": {
      "displayName": "Samantha Zambezi",
      "userId": "02225658030014759105"
     },
     "user_tz": -120
    },
    "id": "verbal-kitchen"
   },
   "outputs": [],
   "source": [
    "date2  = list(rides_df['drop_timestamp'])\n",
    "mydates2 =[]\n",
    "for adate in date2:\n",
    "    x = datetime.datetime.fromtimestamp(adate).strftime(\"%d-%m-%Y %H:%M:%S\")\n",
    "    mydates2.append(x)"
   ]
  },
  {
   "cell_type": "code",
   "execution_count": 22,
   "id": "suspected-karaoke",
   "metadata": {
    "executionInfo": {
     "elapsed": 5,
     "status": "ok",
     "timestamp": 1662486201454,
     "user": {
      "displayName": "Samantha Zambezi",
      "userId": "02225658030014759105"
     },
     "user_tz": -120
    },
    "id": "unlimited-yorkshire"
   },
   "outputs": [],
   "source": [
    "rides_df['pickup_time'] = mydates\n",
    "rides_df['drop_time'] = mydates2"
   ]
  },
  {
   "cell_type": "code",
   "execution_count": 23,
   "id": "minute-command",
   "metadata": {
    "executionInfo": {
     "elapsed": 1432,
     "status": "ok",
     "timestamp": 1662486202882,
     "user": {
      "displayName": "Samantha Zambezi",
      "userId": "02225658030014759105"
     },
     "user_tz": -120
    },
    "id": "ceramic-funeral"
   },
   "outputs": [],
   "source": [
    "rides_df['pickup_time'] = pd.to_datetime(rides_df['pickup_time'],format= '%d-%m-%Y %H:%M:%S' )\n",
    "rides_df['drop_time'] = pd.to_datetime(rides_df['drop_time'],format= '%d-%m-%Y %H:%M:%S' )"
   ]
  },
  {
   "cell_type": "code",
   "execution_count": 24,
   "id": "informative-arthritis",
   "metadata": {
    "executionInfo": {
     "elapsed": 5,
     "status": "ok",
     "timestamp": 1662486202883,
     "user": {
      "displayName": "Samantha Zambezi",
      "userId": "02225658030014759105"
     },
     "user_tz": -120
    },
    "id": "practical-tomorrow"
   },
   "outputs": [],
   "source": [
    "rides_df['duration'] = rides_df['drop_time']-rides_df['pickup_time']"
   ]
  },
  {
   "cell_type": "code",
   "execution_count": 25,
   "id": "employed-calgary",
   "metadata": {
    "executionInfo": {
     "elapsed": 3,
     "status": "ok",
     "timestamp": 1662486204682,
     "user": {
      "displayName": "Samantha Zambezi",
      "userId": "02225658030014759105"
     },
     "user_tz": -120
    },
    "id": "alert-planning"
   },
   "outputs": [],
   "source": [
    "rides_df['duration'] = rides_df['duration'].dt.total_seconds().div(60).astype(int)"
   ]
  },
  {
   "cell_type": "code",
   "execution_count": 76,
   "id": "heated-furniture",
   "metadata": {
    "executionInfo": {
     "elapsed": 18039,
     "status": "ok",
     "timestamp": 1662488599236,
     "user": {
      "displayName": "Samantha Zambezi",
      "userId": "02225658030014759105"
     },
     "user_tz": -120
    },
    "id": "_QFvVi5dA4Nb"
   },
   "outputs": [],
   "source": [
    "#calculate/estimate distance travelled\n",
    "rides_df['Dist'] = rides_df.apply(lambda row: h3.point_dist((row['pickup_lat'], row['pickup_long']), (row['drop_lat'], row['drop_long'])), axis=1)"
   ]
  },
  {
   "cell_type": "code",
   "execution_count": 77,
   "id": "british-transportation",
   "metadata": {
    "colab": {
     "base_uri": "https://localhost:8080/",
     "height": 206
    },
    "executionInfo": {
     "elapsed": 445,
     "status": "ok",
     "timestamp": 1662488620286,
     "user": {
      "displayName": "Samantha Zambezi",
      "userId": "02225658030014759105"
     },
     "user_tz": -120
    },
    "id": "charitable-syntax",
    "outputId": "b1b0d30c-af47-454b-f29b-48d3ebf2d581"
   },
   "outputs": [
    {
     "data": {
      "text/html": [
       "\n",
       "  <div id=\"df-9ecfbd6c-6025-4a42-83cb-33e94ed589a1\">\n",
       "    <div class=\"colab-df-container\">\n",
       "      <div>\n",
       "<style scoped>\n",
       "    .dataframe tbody tr th:only-of-type {\n",
       "        vertical-align: middle;\n",
       "    }\n",
       "\n",
       "    .dataframe tbody tr th {\n",
       "        vertical-align: top;\n",
       "    }\n",
       "\n",
       "    .dataframe thead th {\n",
       "        text-align: right;\n",
       "    }\n",
       "</style>\n",
       "<table border=\"1\" class=\"dataframe\">\n",
       "  <thead>\n",
       "    <tr style=\"text-align: right;\">\n",
       "      <th></th>\n",
       "      <th>cabid</th>\n",
       "      <th>group</th>\n",
       "      <th>pickup_lat</th>\n",
       "      <th>drop_lat</th>\n",
       "      <th>pickup_long</th>\n",
       "      <th>drop_long</th>\n",
       "      <th>pickup_timstamp</th>\n",
       "      <th>drop_timestamp</th>\n",
       "      <th>occupancy</th>\n",
       "      <th>pickup_time</th>\n",
       "      <th>drop_time</th>\n",
       "      <th>duration</th>\n",
       "      <th>Dist</th>\n",
       "    </tr>\n",
       "  </thead>\n",
       "  <tbody>\n",
       "    <tr>\n",
       "      <th>0</th>\n",
       "      <td>0</td>\n",
       "      <td>1</td>\n",
       "      <td>37.75323</td>\n",
       "      <td>37.75607</td>\n",
       "      <td>-122.41168</td>\n",
       "      <td>-122.40248</td>\n",
       "      <td>1211023573</td>\n",
       "      <td>1211023851</td>\n",
       "      <td>0.0</td>\n",
       "      <td>2008-05-17 11:26:13</td>\n",
       "      <td>2008-05-17 11:30:51</td>\n",
       "      <td>4</td>\n",
       "      <td>0.868283</td>\n",
       "    </tr>\n",
       "    <tr>\n",
       "      <th>1</th>\n",
       "      <td>0</td>\n",
       "      <td>3</td>\n",
       "      <td>37.78464</td>\n",
       "      <td>37.80414</td>\n",
       "      <td>-122.48087</td>\n",
       "      <td>-122.39520</td>\n",
       "      <td>1211024444</td>\n",
       "      <td>1211025742</td>\n",
       "      <td>0.0</td>\n",
       "      <td>2008-05-17 11:40:44</td>\n",
       "      <td>2008-05-17 12:02:22</td>\n",
       "      <td>21</td>\n",
       "      <td>7.833714</td>\n",
       "    </tr>\n",
       "    <tr>\n",
       "      <th>3</th>\n",
       "      <td>0</td>\n",
       "      <td>7</td>\n",
       "      <td>37.61455</td>\n",
       "      <td>37.78335</td>\n",
       "      <td>-122.40636</td>\n",
       "      <td>-122.38939</td>\n",
       "      <td>1211032084</td>\n",
       "      <td>1211034272</td>\n",
       "      <td>0.0</td>\n",
       "      <td>2008-05-17 13:48:04</td>\n",
       "      <td>2008-05-17 14:24:32</td>\n",
       "      <td>36</td>\n",
       "      <td>18.829013</td>\n",
       "    </tr>\n",
       "    <tr>\n",
       "      <th>4</th>\n",
       "      <td>0</td>\n",
       "      <td>9</td>\n",
       "      <td>37.78640</td>\n",
       "      <td>37.80120</td>\n",
       "      <td>-122.41947</td>\n",
       "      <td>-122.40748</td>\n",
       "      <td>1211034563</td>\n",
       "      <td>1211035246</td>\n",
       "      <td>0.0</td>\n",
       "      <td>2008-05-17 14:29:23</td>\n",
       "      <td>2008-05-17 14:40:46</td>\n",
       "      <td>11</td>\n",
       "      <td>1.954033</td>\n",
       "    </tr>\n",
       "    <tr>\n",
       "      <th>5</th>\n",
       "      <td>0</td>\n",
       "      <td>11</td>\n",
       "      <td>37.78188</td>\n",
       "      <td>37.79974</td>\n",
       "      <td>-122.43499</td>\n",
       "      <td>-122.42942</td>\n",
       "      <td>1211035787</td>\n",
       "      <td>1211036330</td>\n",
       "      <td>0.0</td>\n",
       "      <td>2008-05-17 14:49:47</td>\n",
       "      <td>2008-05-17 14:58:50</td>\n",
       "      <td>9</td>\n",
       "      <td>2.045368</td>\n",
       "    </tr>\n",
       "  </tbody>\n",
       "</table>\n",
       "</div>\n",
       "      <button class=\"colab-df-convert\" onclick=\"convertToInteractive('df-9ecfbd6c-6025-4a42-83cb-33e94ed589a1')\"\n",
       "              title=\"Convert this dataframe to an interactive table.\"\n",
       "              style=\"display:none;\">\n",
       "        \n",
       "  <svg xmlns=\"http://www.w3.org/2000/svg\" height=\"24px\"viewBox=\"0 0 24 24\"\n",
       "       width=\"24px\">\n",
       "    <path d=\"M0 0h24v24H0V0z\" fill=\"none\"/>\n",
       "    <path d=\"M18.56 5.44l.94 2.06.94-2.06 2.06-.94-2.06-.94-.94-2.06-.94 2.06-2.06.94zm-11 1L8.5 8.5l.94-2.06 2.06-.94-2.06-.94L8.5 2.5l-.94 2.06-2.06.94zm10 10l.94 2.06.94-2.06 2.06-.94-2.06-.94-.94-2.06-.94 2.06-2.06.94z\"/><path d=\"M17.41 7.96l-1.37-1.37c-.4-.4-.92-.59-1.43-.59-.52 0-1.04.2-1.43.59L10.3 9.45l-7.72 7.72c-.78.78-.78 2.05 0 2.83L4 21.41c.39.39.9.59 1.41.59.51 0 1.02-.2 1.41-.59l7.78-7.78 2.81-2.81c.8-.78.8-2.07 0-2.86zM5.41 20L4 18.59l7.72-7.72 1.47 1.35L5.41 20z\"/>\n",
       "  </svg>\n",
       "      </button>\n",
       "      \n",
       "  <style>\n",
       "    .colab-df-container {\n",
       "      display:flex;\n",
       "      flex-wrap:wrap;\n",
       "      gap: 12px;\n",
       "    }\n",
       "\n",
       "    .colab-df-convert {\n",
       "      background-color: #E8F0FE;\n",
       "      border: none;\n",
       "      border-radius: 50%;\n",
       "      cursor: pointer;\n",
       "      display: none;\n",
       "      fill: #1967D2;\n",
       "      height: 32px;\n",
       "      padding: 0 0 0 0;\n",
       "      width: 32px;\n",
       "    }\n",
       "\n",
       "    .colab-df-convert:hover {\n",
       "      background-color: #E2EBFA;\n",
       "      box-shadow: 0px 1px 2px rgba(60, 64, 67, 0.3), 0px 1px 3px 1px rgba(60, 64, 67, 0.15);\n",
       "      fill: #174EA6;\n",
       "    }\n",
       "\n",
       "    [theme=dark] .colab-df-convert {\n",
       "      background-color: #3B4455;\n",
       "      fill: #D2E3FC;\n",
       "    }\n",
       "\n",
       "    [theme=dark] .colab-df-convert:hover {\n",
       "      background-color: #434B5C;\n",
       "      box-shadow: 0px 1px 3px 1px rgba(0, 0, 0, 0.15);\n",
       "      filter: drop-shadow(0px 1px 2px rgba(0, 0, 0, 0.3));\n",
       "      fill: #FFFFFF;\n",
       "    }\n",
       "  </style>\n",
       "\n",
       "      <script>\n",
       "        const buttonEl =\n",
       "          document.querySelector('#df-9ecfbd6c-6025-4a42-83cb-33e94ed589a1 button.colab-df-convert');\n",
       "        buttonEl.style.display =\n",
       "          google.colab.kernel.accessAllowed ? 'block' : 'none';\n",
       "\n",
       "        async function convertToInteractive(key) {\n",
       "          const element = document.querySelector('#df-9ecfbd6c-6025-4a42-83cb-33e94ed589a1');\n",
       "          const dataTable =\n",
       "            await google.colab.kernel.invokeFunction('convertToInteractive',\n",
       "                                                     [key], {});\n",
       "          if (!dataTable) return;\n",
       "\n",
       "          const docLinkHtml = 'Like what you see? Visit the ' +\n",
       "            '<a target=\"_blank\" href=https://colab.research.google.com/notebooks/data_table.ipynb>data table notebook</a>'\n",
       "            + ' to learn more about interactive tables.';\n",
       "          element.innerHTML = '';\n",
       "          dataTable['output_type'] = 'display_data';\n",
       "          await google.colab.output.renderOutput(dataTable, element);\n",
       "          const docLink = document.createElement('div');\n",
       "          docLink.innerHTML = docLinkHtml;\n",
       "          element.appendChild(docLink);\n",
       "        }\n",
       "      </script>\n",
       "    </div>\n",
       "  </div>\n",
       "  "
      ],
      "text/plain": [
       "   cabid  group  pickup_lat  drop_lat  pickup_long  drop_long  \\\n",
       "0      0      1    37.75323  37.75607   -122.41168 -122.40248   \n",
       "1      0      3    37.78464  37.80414   -122.48087 -122.39520   \n",
       "3      0      7    37.61455  37.78335   -122.40636 -122.38939   \n",
       "4      0      9    37.78640  37.80120   -122.41947 -122.40748   \n",
       "5      0     11    37.78188  37.79974   -122.43499 -122.42942   \n",
       "\n",
       "   pickup_timstamp  drop_timestamp  occupancy         pickup_time  \\\n",
       "0       1211023573      1211023851        0.0 2008-05-17 11:26:13   \n",
       "1       1211024444      1211025742        0.0 2008-05-17 11:40:44   \n",
       "3       1211032084      1211034272        0.0 2008-05-17 13:48:04   \n",
       "4       1211034563      1211035246        0.0 2008-05-17 14:29:23   \n",
       "5       1211035787      1211036330        0.0 2008-05-17 14:49:47   \n",
       "\n",
       "            drop_time  duration       Dist  \n",
       "0 2008-05-17 11:30:51         4   0.868283  \n",
       "1 2008-05-17 12:02:22        21   7.833714  \n",
       "3 2008-05-17 14:24:32        36  18.829013  \n",
       "4 2008-05-17 14:40:46        11   1.954033  \n",
       "5 2008-05-17 14:58:50         9   2.045368  "
      ]
     },
     "execution_count": 77,
     "metadata": {},
     "output_type": "execute_result"
    }
   ],
   "source": [
    "rides_df.head()"
   ]
  },
  {
   "cell_type": "markdown",
   "id": "macro-dealing",
   "metadata": {
    "id": "occasional-bleeding"
   },
   "source": [
    "### Remove outliers"
   ]
  },
  {
   "cell_type": "code",
   "execution_count": 27,
   "id": "charitable-going",
   "metadata": {
    "executionInfo": {
     "elapsed": 515,
     "status": "ok",
     "timestamp": 1662486221760,
     "user": {
      "displayName": "Samantha Zambezi",
      "userId": "02225658030014759105"
     },
     "user_tz": -120
    },
    "id": "chinese-median"
   },
   "outputs": [],
   "source": [
    "rides_df = rides_df[rides_df['drop_long'] < -120.0]\n",
    "rides_df = rides_df[rides_df['drop_long'] > -123.0]\n",
    "rides_df = rides_df[rides_df['drop_lat'] < 40]"
   ]
  },
  {
   "cell_type": "code",
   "execution_count": 28,
   "id": "noble-syracuse",
   "metadata": {
    "executionInfo": {
     "elapsed": 2,
     "status": "ok",
     "timestamp": 1662486222198,
     "user": {
      "displayName": "Samantha Zambezi",
      "userId": "02225658030014759105"
     },
     "user_tz": -120
    },
    "id": "impressive-margin"
   },
   "outputs": [],
   "source": [
    "rides_df = rides_df[rides_df['pickup_long'] < -120.0]\n",
    "rides_df = rides_df[rides_df['pickup_long'] > -123.0]\n",
    "rides_df = rides_df[rides_df['pickup_lat'] > 37]"
   ]
  },
  {
   "cell_type": "markdown",
   "id": "comic-dutch",
   "metadata": {},
   "source": [
    "### Estimate CO2 emissions"
   ]
  },
  {
   "cell_type": "code",
   "execution_count": 79,
   "id": "nasty-steering",
   "metadata": {
    "colab": {
     "base_uri": "https://localhost:8080/"
    },
    "executionInfo": {
     "elapsed": 4,
     "status": "ok",
     "timestamp": 1662488639349,
     "user": {
      "displayName": "Samantha Zambezi",
      "userId": "02225658030014759105"
     },
     "user_tz": -120
    },
    "id": "JZK4d_e_5zcB",
    "outputId": "d3897c46-7304-4521-aea7-bed5b00ecbbf"
   },
   "outputs": [
    {
     "data": {
      "text/plain": [
       "count    256792.000000\n",
       "mean          2.145667\n",
       "std           4.127375\n",
       "min           0.000000\n",
       "25%           0.223657\n",
       "50%           0.847896\n",
       "75%           2.002160\n",
       "max          83.365051\n",
       "Name: Dist, dtype: float64"
      ]
     },
     "execution_count": 79,
     "metadata": {},
     "output_type": "execute_result"
    }
   ],
   "source": [
    "rides_df['Dist'].describe()"
   ]
  },
  {
   "cell_type": "code",
   "execution_count": 81,
   "id": "collective-kenya",
   "metadata": {
    "executionInfo": {
     "elapsed": 417,
     "status": "ok",
     "timestamp": 1662488681887,
     "user": {
      "displayName": "Samantha Zambezi",
      "userId": "02225658030014759105"
     },
     "user_tz": -120
    },
    "id": "JxSqqrhC55BJ"
   },
   "outputs": [],
   "source": [
    "rides_df = rides_df[rides_df['Dist']<30]"
   ]
  },
  {
   "cell_type": "code",
   "execution_count": 82,
   "id": "aggressive-diversity",
   "metadata": {
    "colab": {
     "base_uri": "https://localhost:8080/"
    },
    "executionInfo": {
     "elapsed": 2,
     "status": "ok",
     "timestamp": 1662488683755,
     "user": {
      "displayName": "Samantha Zambezi",
      "userId": "02225658030014759105"
     },
     "user_tz": -120
    },
    "id": "jJaFClBS9w6W",
    "outputId": "e96d1432-4dae-4a72-f289-4455f7ad1dae"
   },
   "outputs": [
    {
     "data": {
      "text/plain": [
       "256519"
      ]
     },
     "execution_count": 82,
     "metadata": {},
     "output_type": "execute_result"
    }
   ],
   "source": [
    "len(rides_df)"
   ]
  },
  {
   "cell_type": "code",
   "execution_count": 83,
   "id": "portable-profile",
   "metadata": {
    "colab": {
     "base_uri": "https://localhost:8080/",
     "height": 270
    },
    "executionInfo": {
     "elapsed": 699,
     "status": "ok",
     "timestamp": 1662488685010,
     "user": {
      "displayName": "Samantha Zambezi",
      "userId": "02225658030014759105"
     },
     "user_tz": -120
    },
    "id": "yZC4Z4uF5qq2",
    "outputId": "9ba7311d-fb00-44af-a5e8-db4e8eeac051"
   },
   "outputs": [
    {
     "data": {
      "image/png": "[encoded data removed]",
      "text/plain": [
       "<Figure size 432x288 with 1 Axes>"
      ]
     },
     "metadata": {},
     "output_type": "display_data"
    }
   ],
   "source": [
    "sns.set()\n",
    "plt.hist(rides_df['Dist'], bins = 15)\n",
    "plt.show()"
   ]
  },
  {
   "cell_type": "code",
   "execution_count": 84,
   "id": "supposed-supervisor",
   "metadata": {
    "colab": {
     "base_uri": "https://localhost:8080/"
    },
    "executionInfo": {
     "elapsed": 399,
     "status": "ok",
     "timestamp": 1662488775306,
     "user": {
      "displayName": "Samantha Zambezi",
      "userId": "02225658030014759105"
     },
     "user_tz": -120
    },
    "id": "QK4VChET6gVU",
    "outputId": "63e59ff1-20c2-4ce3-dbab-815540597c56"
   },
   "outputs": [
    {
     "data": {
      "text/plain": [
       "540573.2090720178"
      ]
     },
     "execution_count": 84,
     "metadata": {},
     "output_type": "execute_result"
    }
   ],
   "source": [
    "np.sum(rides_df['Dist'])"
   ]
  },
  {
   "cell_type": "code",
   "execution_count": 61,
   "id": "common-dispatch",
   "metadata": {
    "executionInfo": {
     "elapsed": 429,
     "status": "ok",
     "timestamp": 1662487727444,
     "user": {
      "displayName": "Samantha Zambezi",
      "userId": "02225658030014759105"
     },
     "user_tz": -120
    },
    "id": "r76WS9h69ocp"
   },
   "outputs": [],
   "source": [
    "my_list = [len(rides_df)]\n",
    "growth = 1.15\n",
    "x = len(rides_df)\n",
    "for i in range(0,12):\n",
    "    n = round(x*1.15,0)\n",
    "    x = n\n",
    "    my_list.append(n)"
   ]
  },
  {
   "cell_type": "code",
   "execution_count": 87,
   "id": "protective-juvenile",
   "metadata": {
    "executionInfo": {
     "elapsed": 1115,
     "status": "ok",
     "timestamp": 1662488814480,
     "user": {
      "displayName": "Samantha Zambezi",
      "userId": "02225658030014759105"
     },
     "user_tz": -120
    },
    "id": "A_0n615C8wgu"
   },
   "outputs": [],
   "source": [
    "dist_rides = []\n",
    "\n",
    "for rides in my_list:\n",
    "    distance = round(np.sum(np.random.exponential(2.145667,int(rides))),2)\n",
    "    dist_rides.append(distance)"
   ]
  },
  {
   "cell_type": "code",
   "execution_count": 88,
   "id": "upset-disorder",
   "metadata": {
    "colab": {
     "base_uri": "https://localhost:8080/"
    },
    "executionInfo": {
     "elapsed": 448,
     "status": "ok",
     "timestamp": 1662488817414,
     "user": {
      "displayName": "Samantha Zambezi",
      "userId": "02225658030014759105"
     },
     "user_tz": -120
    },
    "id": "YBZhDCOX8xQ9",
    "outputId": "3206291e-976a-47f2-effa-bc182bc528ff"
   },
   "outputs": [
    {
     "data": {
      "text/plain": [
       "[549515.03,\n",
       " 633651.88,\n",
       " 729273.68,\n",
       " 837943.76,\n",
       " 964828.48,\n",
       " 1106771.04,\n",
       " 1275597.96,\n",
       " 1468764.96,\n",
       " 1687317.8,\n",
       " 1934334.82,\n",
       " 2230716.31,\n",
       " 2561805.99,\n",
       " 2947179.01]"
      ]
     },
     "execution_count": 88,
     "metadata": {},
     "output_type": "execute_result"
    }
   ],
   "source": [
    "dist_rides"
   ]
  },
  {
   "cell_type": "code",
   "execution_count": 89,
   "id": "purple-charter",
   "metadata": {
    "colab": {
     "base_uri": "https://localhost:8080/"
    },
    "executionInfo": {
     "elapsed": 6,
     "status": "ok",
     "timestamp": 1662488986017,
     "user": {
      "displayName": "Samantha Zambezi",
      "userId": "02225658030014759105"
     },
     "user_tz": -120
    },
    "id": "IkUztIzMDlMH",
    "outputId": "d99247ad-987e-485a-d3c8-b41755551c84"
   },
   "outputs": [
    {
     "data": {
      "text/plain": [
       "7646791090.88"
      ]
     },
     "execution_count": 89,
     "metadata": {},
     "output_type": "execute_result"
    }
   ],
   "source": [
    "#total co2\n",
    "per_mile = 404 #grams\n",
    "miles = []\n",
    "for dist in dist_rides:\n",
    "    n = round(dist*per_mile,2)\n",
    "    miles.append(n)\n",
    "\n",
    "np.sum(miles)"
   ]
  },
  {
   "cell_type": "code",
   "execution_count": 90,
   "id": "selective-taiwan",
   "metadata": {
    "colab": {
     "base_uri": "https://localhost:8080/"
    },
    "executionInfo": {
     "elapsed": 431,
     "status": "ok",
     "timestamp": 1662489009848,
     "user": {
      "displayName": "Samantha Zambezi",
      "userId": "02225658030014759105"
     },
     "user_tz": -120
    },
    "id": "rDaVMsGpEN2O",
    "outputId": "87b26645-ae4a-4075-ed10-311f38aff57e"
   },
   "outputs": [
    {
     "data": {
      "text/plain": [
       "7646.79109088"
      ]
     },
     "execution_count": 90,
     "metadata": {},
     "output_type": "execute_result"
    }
   ],
   "source": [
    "7646791090.88/1000000"
   ]
  }
 ],
 "metadata": {
  "colab": {
   "provenance": []
  },
  "kernelspec": {
   "display_name": "Python 3",
   "language": "python",
   "name": "python3"
  },
  "language_info": {
   "codemirror_mode": {
    "name": "ipython",
    "version": 3
   },
   "file_extension": ".py",
   "mimetype": "text/x-python",
   "name": "python",
   "nbconvert_exporter": "python",
   "pygments_lexer": "ipython3",
   "version": "3.7.4"
  }
 },
 "nbformat": 4,
 "nbformat_minor": 5
}
