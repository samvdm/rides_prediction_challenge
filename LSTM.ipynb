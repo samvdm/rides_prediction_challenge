{
 "cells": [
  {
   "cell_type": "code",
   "execution_count": 1,
   "id": "german-ethics",
   "metadata": {},
   "outputs": [],
   "source": [
    "# evaluate lstm for monthly car sales dataset\n",
    "from math import sqrt\n",
    "from numpy import array\n",
    "from numpy import mean\n",
    "from numpy import std\n",
    "import numpy\n",
    "from pandas import DataFrame\n",
    "from pandas import concat\n",
    "from pandas import read_csv\n",
    "import pandas as pd\n",
    "from sklearn.metrics import mean_squared_error\n",
    "from tensorflow.keras.models import Sequential\n",
    "from tensorflow.keras.layers import Dense\n",
    "from tensorflow.keras.layers import LSTM\n",
    "import tensorflow.keras.optimizers as optimizers\n",
    "from matplotlib import pyplot\n",
    "from sklearn.preprocessing import MinMaxScaler\n",
    "import tensorflow.keras.layers as layers\n",
    "from  tensorflow.keras.utils import to_categorical\n",
    "from  tensorflow.keras.callbacks import ModelCheckpoint, EarlyStopping"
   ]
  },
  {
   "cell_type": "code",
   "execution_count": 2,
   "id": "respective-final",
   "metadata": {},
   "outputs": [],
   "source": [
    "import pandas as pd\n",
    "import re\n",
    "import matplotlib.pyplot as plt\n",
    "import seaborn as sns\n",
    "import numpy as np\n",
    "import geopandas as gpd\n",
    "import glob\n",
    "import datetime\n",
    "from scipy.cluster.hierarchy import linkage, fcluster\n",
    "from scipy.cluster.vq import kmeans, vq, whiten\n",
    "import random\n",
    "random.seed(42)\n",
    "import sklearn.metrics as metrics\n",
    "from sklearn.linear_model import LogisticRegression\n",
    "from sklearn.metrics import accuracy_score\n",
    "from sklearn.model_selection import train_test_split, GridSearchCV, RandomizedSearchCV, KFold\n",
    "from sklearn.metrics import roc_curve, roc_auc_score\n",
    "from scipy.stats import loguniform\n",
    "from sklearn.utils import resample\n",
    "from xgboost import XGBClassifier\n",
    "from sklearn.metrics import precision_recall_fscore_support, accuracy_score, confusion_matrix, classification_report\n",
    "from sklearn.ensemble import RandomForestClassifier\n",
    "import warnings\n",
    "warnings.filterwarnings(action='once')"
   ]
  },
  {
   "cell_type": "code",
   "execution_count": 4,
   "id": "twelve-hollywood",
   "metadata": {},
   "outputs": [],
   "source": [
    "rides_df = pd.read_csv(\"~/Documents/coursedata/rides.csv\")"
   ]
  },
  {
   "cell_type": "code",
   "execution_count": 6,
   "id": "creative-coverage",
   "metadata": {},
   "outputs": [
    {
     "name": "stderr",
     "output_type": "stream",
     "text": [
      "C:\\ProgramData\\Anaconda3\\lib\\site-packages\\ipykernel\\ipkernel.py:287: DeprecationWarning: `should_run_async` will not call `transform_cell` automatically in the future. Please pass the result to `transformed_cell` argument and any exception that happen during thetransform in `preprocessing_exc_tuple` in IPython 7.17 and above.\n",
      "  and should_run_async(code)\n"
     ]
    }
   ],
   "source": [
    "rides_df=  rides_df .drop(\"Unnamed: 0\",axis=1)"
   ]
  },
  {
   "cell_type": "code",
   "execution_count": 20,
   "id": "round-reform",
   "metadata": {},
   "outputs": [],
   "source": [
    "rides_df['pickup_time'] = pd.to_datetime(rides_df['pickup_time'],format= '%Y-%m-%d %H:%M:%S' )\n",
    "rides_df['drop_time'] = pd.to_datetime(rides_df['drop_time'],format= '%Y-%m-%d %H:%M:%S' )"
   ]
  },
  {
   "cell_type": "code",
   "execution_count": 21,
   "id": "compatible-maximum",
   "metadata": {},
   "outputs": [
    {
     "data": {
      "text/html": [
       "<div>\n",
       "<style scoped>\n",
       "    .dataframe tbody tr th:only-of-type {\n",
       "        vertical-align: middle;\n",
       "    }\n",
       "\n",
       "    .dataframe tbody tr th {\n",
       "        vertical-align: top;\n",
       "    }\n",
       "\n",
       "    .dataframe thead th {\n",
       "        text-align: right;\n",
       "    }\n",
       "</style>\n",
       "<table border=\"1\" class=\"dataframe\">\n",
       "  <thead>\n",
       "    <tr style=\"text-align: right;\">\n",
       "      <th></th>\n",
       "      <th>cabid</th>\n",
       "      <th>group</th>\n",
       "      <th>pickup_lat</th>\n",
       "      <th>drop_lat</th>\n",
       "      <th>pickup_long</th>\n",
       "      <th>drop_long</th>\n",
       "      <th>pickup_timstamp</th>\n",
       "      <th>drop_timestamp</th>\n",
       "      <th>occupancy</th>\n",
       "      <th>pickup_time</th>\n",
       "      <th>drop_time</th>\n",
       "      <th>duration</th>\n",
       "      <th>previous_pickup</th>\n",
       "      <th>Time_between_pickups</th>\n",
       "      <th>cluster</th>\n",
       "    </tr>\n",
       "  </thead>\n",
       "  <tbody>\n",
       "    <tr>\n",
       "      <th>0</th>\n",
       "      <td>192</td>\n",
       "      <td>1</td>\n",
       "      <td>37.79611</td>\n",
       "      <td>37.79987</td>\n",
       "      <td>-122.42011</td>\n",
       "      <td>-122.41242</td>\n",
       "      <td>1211018404</td>\n",
       "      <td>1211018684</td>\n",
       "      <td>1</td>\n",
       "      <td>2008-05-17 12:00:04</td>\n",
       "      <td>2008-05-17 12:04:44</td>\n",
       "      <td>4</td>\n",
       "      <td>2008-05-17 12:00:04</td>\n",
       "      <td>0.0</td>\n",
       "      <td>5</td>\n",
       "    </tr>\n",
       "    <tr>\n",
       "      <th>1</th>\n",
       "      <td>49</td>\n",
       "      <td>1</td>\n",
       "      <td>37.78771</td>\n",
       "      <td>37.78795</td>\n",
       "      <td>-122.39074</td>\n",
       "      <td>-122.39051</td>\n",
       "      <td>1211018404</td>\n",
       "      <td>1211018592</td>\n",
       "      <td>1</td>\n",
       "      <td>2008-05-17 12:00:04</td>\n",
       "      <td>2008-05-17 12:03:12</td>\n",
       "      <td>3</td>\n",
       "      <td>2008-05-17 12:00:04</td>\n",
       "      <td>0.0</td>\n",
       "      <td>6</td>\n",
       "    </tr>\n",
       "    <tr>\n",
       "      <th>2</th>\n",
       "      <td>425</td>\n",
       "      <td>1</td>\n",
       "      <td>37.77350</td>\n",
       "      <td>37.77350</td>\n",
       "      <td>-122.43753</td>\n",
       "      <td>-122.43753</td>\n",
       "      <td>1211018405</td>\n",
       "      <td>1211018405</td>\n",
       "      <td>1</td>\n",
       "      <td>2008-05-17 12:00:05</td>\n",
       "      <td>2008-05-17 12:00:05</td>\n",
       "      <td>0</td>\n",
       "      <td>2008-05-17 12:00:04</td>\n",
       "      <td>1.0</td>\n",
       "      <td>10</td>\n",
       "    </tr>\n",
       "    <tr>\n",
       "      <th>3</th>\n",
       "      <td>255</td>\n",
       "      <td>1</td>\n",
       "      <td>37.78559</td>\n",
       "      <td>37.78667</td>\n",
       "      <td>-122.42003</td>\n",
       "      <td>-122.41549</td>\n",
       "      <td>1211018407</td>\n",
       "      <td>1211018530</td>\n",
       "      <td>1</td>\n",
       "      <td>2008-05-17 12:00:07</td>\n",
       "      <td>2008-05-17 12:02:10</td>\n",
       "      <td>2</td>\n",
       "      <td>2008-05-17 12:00:05</td>\n",
       "      <td>2.0</td>\n",
       "      <td>5</td>\n",
       "    </tr>\n",
       "    <tr>\n",
       "      <th>4</th>\n",
       "      <td>520</td>\n",
       "      <td>1</td>\n",
       "      <td>37.76946</td>\n",
       "      <td>37.76959</td>\n",
       "      <td>-122.44860</td>\n",
       "      <td>-122.44858</td>\n",
       "      <td>1211018407</td>\n",
       "      <td>1211018446</td>\n",
       "      <td>1</td>\n",
       "      <td>2008-05-17 12:00:07</td>\n",
       "      <td>2008-05-17 12:00:46</td>\n",
       "      <td>0</td>\n",
       "      <td>2008-05-17 12:00:07</td>\n",
       "      <td>0.0</td>\n",
       "      <td>9</td>\n",
       "    </tr>\n",
       "  </tbody>\n",
       "</table>\n",
       "</div>"
      ],
      "text/plain": [
       "   cabid  group  pickup_lat  drop_lat  pickup_long  drop_long  \\\n",
       "0    192      1    37.79611  37.79987   -122.42011 -122.41242   \n",
       "1     49      1    37.78771  37.78795   -122.39074 -122.39051   \n",
       "2    425      1    37.77350  37.77350   -122.43753 -122.43753   \n",
       "3    255      1    37.78559  37.78667   -122.42003 -122.41549   \n",
       "4    520      1    37.76946  37.76959   -122.44860 -122.44858   \n",
       "\n",
       "   pickup_timstamp  drop_timestamp  occupancy         pickup_time  \\\n",
       "0       1211018404      1211018684          1 2008-05-17 12:00:04   \n",
       "1       1211018404      1211018592          1 2008-05-17 12:00:04   \n",
       "2       1211018405      1211018405          1 2008-05-17 12:00:05   \n",
       "3       1211018407      1211018530          1 2008-05-17 12:00:07   \n",
       "4       1211018407      1211018446          1 2008-05-17 12:00:07   \n",
       "\n",
       "            drop_time  duration      previous_pickup  Time_between_pickups  \\\n",
       "0 2008-05-17 12:04:44         4  2008-05-17 12:00:04                   0.0   \n",
       "1 2008-05-17 12:03:12         3  2008-05-17 12:00:04                   0.0   \n",
       "2 2008-05-17 12:00:05         0  2008-05-17 12:00:04                   1.0   \n",
       "3 2008-05-17 12:02:10         2  2008-05-17 12:00:05                   2.0   \n",
       "4 2008-05-17 12:00:46         0  2008-05-17 12:00:07                   0.0   \n",
       "\n",
       "   cluster  \n",
       "0        5  \n",
       "1        6  \n",
       "2       10  \n",
       "3        5  \n",
       "4        9  "
      ]
     },
     "execution_count": 21,
     "metadata": {},
     "output_type": "execute_result"
    }
   ],
   "source": [
    "rides_df.head()"
   ]
  },
  {
   "cell_type": "code",
   "execution_count": 22,
   "id": "latest-holiday",
   "metadata": {},
   "outputs": [
    {
     "name": "stderr",
     "output_type": "stream",
     "text": [
      "C:\\ProgramData\\Anaconda3\\lib\\site-packages\\ipykernel\\ipkernel.py:287: DeprecationWarning: `should_run_async` will not call `transform_cell` automatically in the future. Please pass the result to `transformed_cell` argument and any exception that happen during thetransform in `preprocessing_exc_tuple` in IPython 7.17 and above.\n",
      "  and should_run_async(code)\n"
     ]
    },
    {
     "data": {
      "text/plain": [
       "cabid                            int64\n",
       "group                            int64\n",
       "pickup_lat                     float64\n",
       "drop_lat                       float64\n",
       "pickup_long                    float64\n",
       "drop_long                      float64\n",
       "pickup_timstamp                  int64\n",
       "drop_timestamp                   int64\n",
       "occupancy                        int64\n",
       "pickup_time             datetime64[ns]\n",
       "drop_time               datetime64[ns]\n",
       "duration                         int64\n",
       "previous_pickup                 object\n",
       "Time_between_pickups           float64\n",
       "cluster                          int64\n",
       "dtype: object"
      ]
     },
     "execution_count": 22,
     "metadata": {},
     "output_type": "execute_result"
    }
   ],
   "source": [
    "rides_df.dtypes"
   ]
  },
  {
   "cell_type": "code",
   "execution_count": 23,
   "id": "focused-focus",
   "metadata": {},
   "outputs": [],
   "source": [
    "clust_size = rides_df.groupby('cluster')['occupancy'].count().reset_index(name = 'count_rides').sort_values('count_rides', ascending = False)"
   ]
  },
  {
   "cell_type": "code",
   "execution_count": 24,
   "id": "saved-bridge",
   "metadata": {},
   "outputs": [
    {
     "data": {
      "image/png": "[encoded data removed]",
      "text/plain": [
       "<Figure size 1080x648 with 1 Axes>"
      ]
     },
     "metadata": {},
     "output_type": "display_data"
    }
   ],
   "source": [
    "sns.set()\n",
    "plt.figure(figsize = (15,9))\n",
    "plt.bar(clust_size['cluster'], clust_size['count_rides'])\n",
    "plt.title('Cluster size')\n",
    "plt.show()"
   ]
  },
  {
   "cell_type": "markdown",
   "id": "hungarian-australia",
   "metadata": {},
   "source": [
    "We will now create a pivot table where the columns are the regions, the value in the columns is the number of pickups in that region at the given time in the row."
   ]
  },
  {
   "cell_type": "code",
   "execution_count": 25,
   "id": "characteristic-writing",
   "metadata": {},
   "outputs": [],
   "source": [
    "df_crosstab = pd.pivot_table(rides_df, values = 'occupancy', index= 'pickup_time', columns ='cluster', aggfunc = 'sum')"
   ]
  },
  {
   "cell_type": "code",
   "execution_count": 31,
   "id": "technological-spread",
   "metadata": {},
   "outputs": [
    {
     "name": "stderr",
     "output_type": "stream",
     "text": [
      "C:\\ProgramData\\Anaconda3\\lib\\site-packages\\ipykernel\\ipkernel.py:287: DeprecationWarning: `should_run_async` will not call `transform_cell` automatically in the future. Please pass the result to `transformed_cell` argument and any exception that happen during thetransform in `preprocessing_exc_tuple` in IPython 7.17 and above.\n",
      "  and should_run_async(code)\n"
     ]
    }
   ],
   "source": [
    "df_crosstab = df_crosstab.replace(np.nan, 0)"
   ]
  },
  {
   "cell_type": "code",
   "execution_count": 431,
   "id": "spoken-folder",
   "metadata": {},
   "outputs": [
    {
     "name": "stderr",
     "output_type": "stream",
     "text": [
      "C:\\ProgramData\\Anaconda3\\lib\\site-packages\\ipykernel\\ipkernel.py:287: DeprecationWarning: `should_run_async` will not call `transform_cell` automatically in the future. Please pass the result to `transformed_cell` argument and any exception that happen during thetransform in `preprocessing_exc_tuple` in IPython 7.17 and above.\n",
      "  and should_run_async(code)\n"
     ]
    }
   ],
   "source": [
    "region  = 10\n",
    "ts_one  = pd.Series(df_crosstab[region]).reset_index()"
   ]
  },
  {
   "cell_type": "code",
   "execution_count": 432,
   "id": "laughing-citizenship",
   "metadata": {},
   "outputs": [
    {
     "name": "stderr",
     "output_type": "stream",
     "text": [
      "C:\\ProgramData\\Anaconda3\\lib\\site-packages\\ipykernel_launcher.py:10: FutureWarning: Series.dt.weekofyear and Series.dt.week have been deprecated.  Please use Series.dt.isocalendar().week instead.\n",
      "  # Remove the CWD from sys.path while we load stuff.\n"
     ]
    }
   ],
   "source": [
    "ts_one['weekday'] = ts_one['pickup_time'].dt.day_name()\n",
    "ts_one['hour_of_day'] = ts_one['pickup_time'].dt.hour\n",
    "ts_one['minute_of_day'] = ts_one['pickup_time'].dt.minute\n",
    "ts_one = ts_one.rename(columns = {ts_one.columns[1]: 'zone'})\n",
    "ts_one['previous_demand'] = ts_one['zone'].shift(1)\n",
    "#ts_one.loc[ts_one[\"zone\"] > 0, 'zone'] = 1\n",
    "#ts_one['zone'] = ts_one['zone'].astype('category')\n",
    "ts_one['weekday'] = ts_one['weekday'].astype('category')\n",
    "ts_one['previous_demand'] = ts_one['previous_demand'].replace(np.nan, 0)\n",
    "ts_one['week'] = ts_one['pickup_time'].dt.week"
   ]
  },
  {
   "cell_type": "code",
   "execution_count": 433,
   "id": "cardiac-barbados",
   "metadata": {},
   "outputs": [
    {
     "data": {
      "text/html": [
       "<div>\n",
       "<style scoped>\n",
       "    .dataframe tbody tr th:only-of-type {\n",
       "        vertical-align: middle;\n",
       "    }\n",
       "\n",
       "    .dataframe tbody tr th {\n",
       "        vertical-align: top;\n",
       "    }\n",
       "\n",
       "    .dataframe thead th {\n",
       "        text-align: right;\n",
       "    }\n",
       "</style>\n",
       "<table border=\"1\" class=\"dataframe\">\n",
       "  <thead>\n",
       "    <tr style=\"text-align: right;\">\n",
       "      <th></th>\n",
       "      <th>pickup_time</th>\n",
       "      <th>zone</th>\n",
       "      <th>weekday</th>\n",
       "      <th>hour_of_day</th>\n",
       "      <th>minute_of_day</th>\n",
       "      <th>previous_demand</th>\n",
       "      <th>week</th>\n",
       "    </tr>\n",
       "  </thead>\n",
       "  <tbody>\n",
       "    <tr>\n",
       "      <th>0</th>\n",
       "      <td>2008-05-17 12:00:04</td>\n",
       "      <td>0.0</td>\n",
       "      <td>Saturday</td>\n",
       "      <td>12</td>\n",
       "      <td>0</td>\n",
       "      <td>0.0</td>\n",
       "      <td>20</td>\n",
       "    </tr>\n",
       "    <tr>\n",
       "      <th>1</th>\n",
       "      <td>2008-05-17 12:00:05</td>\n",
       "      <td>1.0</td>\n",
       "      <td>Saturday</td>\n",
       "      <td>12</td>\n",
       "      <td>0</td>\n",
       "      <td>0.0</td>\n",
       "      <td>20</td>\n",
       "    </tr>\n",
       "    <tr>\n",
       "      <th>2</th>\n",
       "      <td>2008-05-17 12:00:07</td>\n",
       "      <td>0.0</td>\n",
       "      <td>Saturday</td>\n",
       "      <td>12</td>\n",
       "      <td>0</td>\n",
       "      <td>1.0</td>\n",
       "      <td>20</td>\n",
       "    </tr>\n",
       "    <tr>\n",
       "      <th>3</th>\n",
       "      <td>2008-05-17 12:00:08</td>\n",
       "      <td>0.0</td>\n",
       "      <td>Saturday</td>\n",
       "      <td>12</td>\n",
       "      <td>0</td>\n",
       "      <td>0.0</td>\n",
       "      <td>20</td>\n",
       "    </tr>\n",
       "    <tr>\n",
       "      <th>4</th>\n",
       "      <td>2008-05-17 12:00:09</td>\n",
       "      <td>0.0</td>\n",
       "      <td>Saturday</td>\n",
       "      <td>12</td>\n",
       "      <td>0</td>\n",
       "      <td>0.0</td>\n",
       "      <td>20</td>\n",
       "    </tr>\n",
       "  </tbody>\n",
       "</table>\n",
       "</div>"
      ],
      "text/plain": [
       "          pickup_time  zone   weekday  hour_of_day  minute_of_day  \\\n",
       "0 2008-05-17 12:00:04   0.0  Saturday           12              0   \n",
       "1 2008-05-17 12:00:05   1.0  Saturday           12              0   \n",
       "2 2008-05-17 12:00:07   0.0  Saturday           12              0   \n",
       "3 2008-05-17 12:00:08   0.0  Saturday           12              0   \n",
       "4 2008-05-17 12:00:09   0.0  Saturday           12              0   \n",
       "\n",
       "   previous_demand  week  \n",
       "0              0.0    20  \n",
       "1              0.0    20  \n",
       "2              1.0    20  \n",
       "3              0.0    20  \n",
       "4              0.0    20  "
      ]
     },
     "execution_count": 433,
     "metadata": {},
     "output_type": "execute_result"
    }
   ],
   "source": [
    "ts_one.head()"
   ]
  },
  {
   "cell_type": "code",
   "execution_count": 434,
   "id": "comparative-prevention",
   "metadata": {},
   "outputs": [
    {
     "name": "stderr",
     "output_type": "stream",
     "text": [
      "C:\\ProgramData\\Anaconda3\\lib\\site-packages\\ipykernel\\ipkernel.py:287: DeprecationWarning: `should_run_async` will not call `transform_cell` automatically in the future. Please pass the result to `transformed_cell` argument and any exception that happen during thetransform in `preprocessing_exc_tuple` in IPython 7.17 and above.\n",
      "  and should_run_async(code)\n"
     ]
    }
   ],
   "source": [
    "ts_hour = ts_one.groupby(['weekday','hour_of_day','minute_of_day','week'])['zone'].agg(np.sum).reset_index()"
   ]
  },
  {
   "cell_type": "code",
   "execution_count": 435,
   "id": "sunrise-trading",
   "metadata": {},
   "outputs": [
    {
     "data": {
      "text/plain": [
       "((50400, 5), (350332, 7))"
      ]
     },
     "execution_count": 435,
     "metadata": {},
     "output_type": "execute_result"
    }
   ],
   "source": [
    "ts_hour.shape, ts_one.shape"
   ]
  },
  {
   "cell_type": "code",
   "execution_count": 436,
   "id": "hindu-country",
   "metadata": {},
   "outputs": [],
   "source": [
    "ts_hour.loc[ts_hour[\"zone\"] > 0, 'zone'] = 1\n",
    "ts_hour['zone'] = ts_hour['zone'].astype('category')"
   ]
  },
  {
   "cell_type": "code",
   "execution_count": 437,
   "id": "stuffed-gather",
   "metadata": {},
   "outputs": [
    {
     "name": "stderr",
     "output_type": "stream",
     "text": [
      "C:\\ProgramData\\Anaconda3\\lib\\site-packages\\ipykernel\\ipkernel.py:287: DeprecationWarning: `should_run_async` will not call `transform_cell` automatically in the future. Please pass the result to `transformed_cell` argument and any exception that happen during thetransform in `preprocessing_exc_tuple` in IPython 7.17 and above.\n",
      "  and should_run_async(code)\n"
     ]
    },
    {
     "data": {
      "image/png": "[encoded data removed]",
      "text/plain": [
       "<Figure size 792x648 with 1 Axes>"
      ]
     },
     "metadata": {},
     "output_type": "display_data"
    }
   ],
   "source": [
    "plt.figure(figsize = (11,9))\n",
    "#plt.rcParams.update({'font.size': 30})\n",
    "sns.countplot(x = ts_hour['zone'], data = ts_hour)\n",
    "plt.title('cluster zero')\n",
    "plt.show()"
   ]
  },
  {
   "cell_type": "code",
   "execution_count": 438,
   "id": "anticipated-morris",
   "metadata": {},
   "outputs": [
    {
     "data": {
      "text/plain": [
       "zone\n",
       "0.0    28511\n",
       "1.0    21889\n",
       "Name: zone, dtype: int64"
      ]
     },
     "execution_count": 438,
     "metadata": {},
     "output_type": "execute_result"
    }
   ],
   "source": [
    "ts_hour.groupby('zone')['zone'].count()"
   ]
  },
  {
   "cell_type": "code",
   "execution_count": 439,
   "id": "suspected-generation",
   "metadata": {},
   "outputs": [],
   "source": [
    "ts_hour = pd.get_dummies(data = ts_hour, columns = ['weekday'], dtype= int)"
   ]
  },
  {
   "cell_type": "code",
   "execution_count": 440,
   "id": "silent-sleeve",
   "metadata": {},
   "outputs": [
    {
     "data": {
      "text/plain": [
       "hour_of_day             int64\n",
       "minute_of_day           int64\n",
       "week                    int64\n",
       "zone                 category\n",
       "weekday_Friday          int32\n",
       "weekday_Monday          int32\n",
       "weekday_Saturday        int32\n",
       "weekday_Sunday          int32\n",
       "weekday_Thursday        int32\n",
       "weekday_Tuesday         int32\n",
       "weekday_Wednesday       int32\n",
       "dtype: object"
      ]
     },
     "execution_count": 440,
     "metadata": {},
     "output_type": "execute_result"
    }
   ],
   "source": [
    "ts_hour.dtypes"
   ]
  },
  {
   "cell_type": "code",
   "execution_count": 441,
   "id": "parallel-level",
   "metadata": {},
   "outputs": [],
   "source": [
    "ts_one = ts_one.set_index('pickup_time')\n",
    "ts_one = ts_one.sort_index()"
   ]
  },
  {
   "cell_type": "code",
   "execution_count": 442,
   "id": "ideal-parts",
   "metadata": {},
   "outputs": [
    {
     "data": {
      "text/html": [
       "<div>\n",
       "<style scoped>\n",
       "    .dataframe tbody tr th:only-of-type {\n",
       "        vertical-align: middle;\n",
       "    }\n",
       "\n",
       "    .dataframe tbody tr th {\n",
       "        vertical-align: top;\n",
       "    }\n",
       "\n",
       "    .dataframe thead th {\n",
       "        text-align: right;\n",
       "    }\n",
       "</style>\n",
       "<table border=\"1\" class=\"dataframe\">\n",
       "  <thead>\n",
       "    <tr style=\"text-align: right;\">\n",
       "      <th></th>\n",
       "      <th>hour_of_day</th>\n",
       "      <th>minute_of_day</th>\n",
       "      <th>week</th>\n",
       "      <th>zone</th>\n",
       "      <th>weekday_Friday</th>\n",
       "      <th>weekday_Monday</th>\n",
       "      <th>weekday_Saturday</th>\n",
       "      <th>weekday_Sunday</th>\n",
       "      <th>weekday_Thursday</th>\n",
       "      <th>weekday_Tuesday</th>\n",
       "      <th>weekday_Wednesday</th>\n",
       "    </tr>\n",
       "  </thead>\n",
       "  <tbody>\n",
       "    <tr>\n",
       "      <th>0</th>\n",
       "      <td>0</td>\n",
       "      <td>0</td>\n",
       "      <td>20</td>\n",
       "      <td>0.0</td>\n",
       "      <td>1</td>\n",
       "      <td>0</td>\n",
       "      <td>0</td>\n",
       "      <td>0</td>\n",
       "      <td>0</td>\n",
       "      <td>0</td>\n",
       "      <td>0</td>\n",
       "    </tr>\n",
       "    <tr>\n",
       "      <th>1</th>\n",
       "      <td>0</td>\n",
       "      <td>0</td>\n",
       "      <td>21</td>\n",
       "      <td>0.0</td>\n",
       "      <td>1</td>\n",
       "      <td>0</td>\n",
       "      <td>0</td>\n",
       "      <td>0</td>\n",
       "      <td>0</td>\n",
       "      <td>0</td>\n",
       "      <td>0</td>\n",
       "    </tr>\n",
       "    <tr>\n",
       "      <th>2</th>\n",
       "      <td>0</td>\n",
       "      <td>0</td>\n",
       "      <td>22</td>\n",
       "      <td>0.0</td>\n",
       "      <td>1</td>\n",
       "      <td>0</td>\n",
       "      <td>0</td>\n",
       "      <td>0</td>\n",
       "      <td>0</td>\n",
       "      <td>0</td>\n",
       "      <td>0</td>\n",
       "    </tr>\n",
       "    <tr>\n",
       "      <th>3</th>\n",
       "      <td>0</td>\n",
       "      <td>0</td>\n",
       "      <td>23</td>\n",
       "      <td>1.0</td>\n",
       "      <td>1</td>\n",
       "      <td>0</td>\n",
       "      <td>0</td>\n",
       "      <td>0</td>\n",
       "      <td>0</td>\n",
       "      <td>0</td>\n",
       "      <td>0</td>\n",
       "    </tr>\n",
       "    <tr>\n",
       "      <th>4</th>\n",
       "      <td>0</td>\n",
       "      <td>0</td>\n",
       "      <td>24</td>\n",
       "      <td>0.0</td>\n",
       "      <td>1</td>\n",
       "      <td>0</td>\n",
       "      <td>0</td>\n",
       "      <td>0</td>\n",
       "      <td>0</td>\n",
       "      <td>0</td>\n",
       "      <td>0</td>\n",
       "    </tr>\n",
       "  </tbody>\n",
       "</table>\n",
       "</div>"
      ],
      "text/plain": [
       "   hour_of_day  minute_of_day  week zone  weekday_Friday  weekday_Monday  \\\n",
       "0            0              0    20  0.0               1               0   \n",
       "1            0              0    21  0.0               1               0   \n",
       "2            0              0    22  0.0               1               0   \n",
       "3            0              0    23  1.0               1               0   \n",
       "4            0              0    24  0.0               1               0   \n",
       "\n",
       "   weekday_Saturday  weekday_Sunday  weekday_Thursday  weekday_Tuesday  \\\n",
       "0                 0               0                 0                0   \n",
       "1                 0               0                 0                0   \n",
       "2                 0               0                 0                0   \n",
       "3                 0               0                 0                0   \n",
       "4                 0               0                 0                0   \n",
       "\n",
       "   weekday_Wednesday  \n",
       "0                  0  \n",
       "1                  0  \n",
       "2                  0  \n",
       "3                  0  \n",
       "4                  0  "
      ]
     },
     "execution_count": 442,
     "metadata": {},
     "output_type": "execute_result"
    }
   ],
   "source": [
    "ts_hour.head()"
   ]
  },
  {
   "cell_type": "code",
   "execution_count": null,
   "id": "final-charles",
   "metadata": {},
   "outputs": [],
   "source": []
  },
  {
   "cell_type": "markdown",
   "id": "alive-marks",
   "metadata": {},
   "source": [
    "<h3 id=\"Train-test split\">Train-test split</h3>"
   ]
  },
  {
   "cell_type": "code",
   "execution_count": 443,
   "id": "pregnant-atmosphere",
   "metadata": {},
   "outputs": [
    {
     "name": "stderr",
     "output_type": "stream",
     "text": [
      "C:\\ProgramData\\Anaconda3\\lib\\site-packages\\ipykernel\\ipkernel.py:287: DeprecationWarning: `should_run_async` will not call `transform_cell` automatically in the future. Please pass the result to `transformed_cell` argument and any exception that happen during thetransform in `preprocessing_exc_tuple` in IPython 7.17 and above.\n",
      "  and should_run_async(code)\n"
     ]
    }
   ],
   "source": [
    "# train test split\n",
    "x_train, x_test, y_train, y_test = train_test_split(ts_hour.loc[:, ~ts_hour.columns.isin(['zone'])], ts_hour['zone'], test_size=0.1,  stratify=ts_hour['zone'], random_state = 1)"
   ]
  },
  {
   "cell_type": "markdown",
   "id": "fancy-handbook",
   "metadata": {},
   "source": [
    "<h2 id=\"Model-Training\">Model-Training</h2>"
   ]
  },
  {
   "cell_type": "markdown",
   "id": "emerging-remedy",
   "metadata": {},
   "source": [
    "<h3 id=\"LSTM\">LSTM</h3>"
   ]
  },
  {
   "cell_type": "markdown",
   "id": "sought-profit",
   "metadata": {},
   "source": [
    "Model as a Sequence Problem"
   ]
  },
  {
   "cell_type": "code",
   "execution_count": 444,
   "id": "rubber-antigua",
   "metadata": {},
   "outputs": [
    {
     "name": "stderr",
     "output_type": "stream",
     "text": [
      "C:\\ProgramData\\Anaconda3\\lib\\site-packages\\ipykernel\\ipkernel.py:287: DeprecationWarning: `should_run_async` will not call `transform_cell` automatically in the future. Please pass the result to `transformed_cell` argument and any exception that happen during thetransform in `preprocessing_exc_tuple` in IPython 7.17 and above.\n",
      "  and should_run_async(code)\n"
     ]
    }
   ],
   "source": [
    "x_reshape_train = x_train.values.reshape(x_train.shape[0],1,  x_train.shape[1]) \n",
    "x_reshape_test = x_test.values.reshape(x_test.shape[0], 1,  x_test.shape[1]) "
   ]
  },
  {
   "cell_type": "code",
   "execution_count": 445,
   "id": "cross-idaho",
   "metadata": {},
   "outputs": [],
   "source": [
    "input_shape=(x_reshape_train.shape[1:])"
   ]
  },
  {
   "cell_type": "code",
   "execution_count": 446,
   "id": "conceptual-cookbook",
   "metadata": {},
   "outputs": [
    {
     "data": {
      "text/plain": [
       "(45360, 1, 10)"
      ]
     },
     "execution_count": 446,
     "metadata": {},
     "output_type": "execute_result"
    }
   ],
   "source": [
    "x_reshape_train.shape"
   ]
  },
  {
   "cell_type": "code",
   "execution_count": 447,
   "id": "equivalent-romania",
   "metadata": {},
   "outputs": [
    {
     "data": {
      "text/plain": [
       "(1, 10)"
      ]
     },
     "execution_count": 447,
     "metadata": {},
     "output_type": "execute_result"
    }
   ],
   "source": [
    "input_shape"
   ]
  },
  {
   "cell_type": "code",
   "execution_count": 448,
   "id": "quick-lodge",
   "metadata": {},
   "outputs": [],
   "source": [
    "y_train=to_categorical(y_train)\n",
    "y_test2=to_categorical(y_test)"
   ]
  },
  {
   "cell_type": "code",
   "execution_count": 449,
   "id": "canadian-makeup",
   "metadata": {},
   "outputs": [],
   "source": [
    "from keras import backend as K\n",
    "\n",
    "def recall_m(y_true, y_pred):\n",
    "    true_positives = K.sum(K.round(K.clip(y_true * y_pred, 0, 1)))\n",
    "    possible_positives = K.sum(K.round(K.clip(y_true, 0, 1)))\n",
    "    recall = true_positives / (possible_positives + K.epsilon())\n",
    "    return recall\n",
    "\n",
    "def precision_m(y_true, y_pred):\n",
    "    true_positives = K.sum(K.round(K.clip(y_true * y_pred, 0, 1)))\n",
    "    predicted_positives = K.sum(K.round(K.clip(y_pred, 0, 1)))\n",
    "    precision = true_positives / (predicted_positives + K.epsilon())\n",
    "    return precision\n",
    "\n",
    "def f1_m(y_true, y_pred):\n",
    "    precision = precision_m(y_true, y_pred)\n",
    "    recall = recall_m(y_true, y_pred)\n",
    "    return 2*((precision*recall)/(precision+recall+K.epsilon()))"
   ]
  },
  {
   "cell_type": "code",
   "execution_count": 480,
   "id": "comic-atlantic",
   "metadata": {},
   "outputs": [],
   "source": [
    "def build_model():\n",
    "    model = Sequential()\n",
    "    model.add(LSTM(32, activation='sigmoid', input_shape=input_shape, stateful=False))\n",
    "    model.add(Dense(32))\n",
    "    #model.add(Dense(32, kernel_regularizer=regularizers.l1_l2(0.3)))\n",
    "    #model.add(Dropout(0.1))\n",
    "    model.add(Dense(2, activation='softmax'))\n",
    "    model.compile(loss='binary_crossentropy', optimizer= \"adam\", metrics=['acc',f1_m,precision_m, recall_m])\n",
    "    return model\n",
    "model_lstm=build_model()"
   ]
  },
  {
   "cell_type": "code",
   "execution_count": 481,
   "id": "great-beatles",
   "metadata": {},
   "outputs": [
    {
     "name": "stdout",
     "output_type": "stream",
     "text": [
      "Train on 45360 samples, validate on 5040 samples\n",
      "Epoch 1/10\n",
      "45360/45360 [==============================] - 102s 2ms/sample - loss: 0.6446 - acc: 0.6278 - f1_m: 0.6278 - precision_m: 0.6278 - recall_m: 0.6278 - val_loss: 0.6335 - val_acc: 0.6409 - val_f1_m: 0.6409 - val_precision_m: 0.6409 - val_recall_m: 0.6409\n",
      "Epoch 2/10\n",
      "45360/45360 [==============================] - 103s 2ms/sample - loss: 0.6260 - acc: 0.6513 - f1_m: 0.6513 - precision_m: 0.6513 - recall_m: 0.6513 - val_loss: 0.6270 - val_acc: 0.6425 - val_f1_m: 0.6425 - val_precision_m: 0.6425 - val_recall_m: 0.6425\n",
      "Epoch 3/10\n",
      "45360/45360 [==============================] - 118s 3ms/sample - loss: 0.6190 - acc: 0.6560 - f1_m: 0.6560 - precision_m: 0.6560 - recall_m: 0.6560 - val_loss: 0.6226 - val_acc: 0.6486 - val_f1_m: 0.6486 - val_precision_m: 0.6486 - val_recall_m: 0.6486\n",
      "Epoch 4/10\n",
      "45360/45360 [==============================] - 100s 2ms/sample - loss: 0.6143 - acc: 0.6587 - f1_m: 0.6587 - precision_m: 0.6587 - recall_m: 0.6587 - val_loss: 0.6187 - val_acc: 0.6550 - val_f1_m: 0.6550 - val_precision_m: 0.6550 - val_recall_m: 0.6550\n",
      "Epoch 5/10\n",
      "45360/45360 [==============================] - 99s 2ms/sample - loss: 0.6106 - acc: 0.6606 - f1_m: 0.6606 - precision_m: 0.6606 - recall_m: 0.6606 - val_loss: 0.6152 - val_acc: 0.6565 - val_f1_m: 0.6565 - val_precision_m: 0.6565 - val_recall_m: 0.6565\n",
      "Epoch 6/10\n",
      "45360/45360 [==============================] - 105s 2ms/sample - loss: 0.6078 - acc: 0.6628 - f1_m: 0.6628 - precision_m: 0.6628 - recall_m: 0.6628 - val_loss: 0.6110 - val_acc: 0.6627 - val_f1_m: 0.6627 - val_precision_m: 0.6627 - val_recall_m: 0.6627\n",
      "Epoch 7/10\n",
      "45360/45360 [==============================] - 99s 2ms/sample - loss: 0.6054 - acc: 0.6631 - f1_m: 0.6631 - precision_m: 0.6631 - recall_m: 0.6631 - val_loss: 0.6090 - val_acc: 0.6631 - val_f1_m: 0.6631 - val_precision_m: 0.6631 - val_recall_m: 0.6631\n",
      "Epoch 8/10\n",
      "45360/45360 [==============================] - 99s 2ms/sample - loss: 0.6022 - acc: 0.6657 - f1_m: 0.6657 - precision_m: 0.6657 - recall_m: 0.6657 - val_loss: 0.6061 - val_acc: 0.6655 - val_f1_m: 0.6655 - val_precision_m: 0.6655 - val_recall_m: 0.6655\n",
      "Epoch 9/10\n",
      "45360/45360 [==============================] - 115s 3ms/sample - loss: 0.5995 - acc: 0.6663 - f1_m: 0.6663 - precision_m: 0.6663 - recall_m: 0.6663 - val_loss: 0.6034 - val_acc: 0.6673 - val_f1_m: 0.6673 - val_precision_m: 0.6673 - val_recall_m: 0.6673\n",
      "Epoch 10/10\n",
      "45360/45360 [==============================] - 103s 2ms/sample - loss: 0.5968 - acc: 0.6686 - f1_m: 0.6686 - precision_m: 0.6686 - recall_m: 0.6686 - val_loss: 0.5992 - val_acc: 0.6718 - val_f1_m: 0.6718 - val_precision_m: 0.6718 - val_recall_m: 0.6718\n"
     ]
    }
   ],
   "source": [
    "es = EarlyStopping(monitor='val_loss', mode='min',patience=5)\n",
    "history_lstm = model_lstm.fit(x_reshape_train, y_train, epochs=10,batch_size=1,validation_data=(x_reshape_test, y_test2),shuffle=False)"
   ]
  },
  {
   "cell_type": "code",
   "execution_count": 482,
   "id": "suffering-frank",
   "metadata": {},
   "outputs": [],
   "source": [
    "y_pred = model_lstm.predict(x_reshape_test)"
   ]
  },
  {
   "cell_type": "code",
   "execution_count": 483,
   "id": "recorded-philosophy",
   "metadata": {},
   "outputs": [],
   "source": [
    "preds3=[ 1 if i<j else 0 for i,j in y_pred] "
   ]
  },
  {
   "cell_type": "code",
   "execution_count": 484,
   "id": "equivalent-atlas",
   "metadata": {},
   "outputs": [
    {
     "data": {
      "text/plain": [
       "1837"
      ]
     },
     "execution_count": 484,
     "metadata": {},
     "output_type": "execute_result"
    }
   ],
   "source": [
    "sum(preds3)"
   ]
  },
  {
   "cell_type": "code",
   "execution_count": 485,
   "id": "adverse-relative",
   "metadata": {},
   "outputs": [
    {
     "data": {
      "text/plain": [
       "1837"
      ]
     },
     "execution_count": 485,
     "metadata": {},
     "output_type": "execute_result"
    }
   ],
   "source": [
    "sum(preds3)"
   ]
  },
  {
   "cell_type": "code",
   "execution_count": 486,
   "id": "significant-happiness",
   "metadata": {},
   "outputs": [
    {
     "name": "stdout",
     "output_type": "stream",
     "text": [
      "[[2200  651]\n",
      " [1003 1186]]\n",
      "              precision    recall  f1-score   support\n",
      "\n",
      "         0.0       0.69      0.77      0.73      2851\n",
      "         1.0       0.65      0.54      0.59      2189\n",
      "\n",
      "    accuracy                           0.67      5040\n",
      "   macro avg       0.67      0.66      0.66      5040\n",
      "weighted avg       0.67      0.67      0.67      5040\n",
      "\n"
     ]
    }
   ],
   "source": [
    "print(confusion_matrix(y_test, preds3))\n",
    "print(classification_report(y_test, preds3))"
   ]
  },
  {
   "cell_type": "code",
   "execution_count": 487,
   "id": "comparative-ireland",
   "metadata": {},
   "outputs": [
    {
     "name": "stderr",
     "output_type": "stream",
     "text": [
      "C:\\ProgramData\\Anaconda3\\lib\\site-packages\\ipykernel\\ipkernel.py:287: DeprecationWarning: `should_run_async` will not call `transform_cell` automatically in the future. Please pass the result to `transformed_cell` argument and any exception that happen during thetransform in `preprocessing_exc_tuple` in IPython 7.17 and above.\n",
      "  and should_run_async(code)\n"
     ]
    },
    {
     "data": {
      "text/plain": [
       "Text(0.5, 1.0, 'ROC Curve')"
      ]
     },
     "execution_count": 487,
     "metadata": {},
     "output_type": "execute_result"
    },
    {
     "data": {
      "image/png": "[encoded data removed]",
      "text/plain": [
       "<Figure size 432x288 with 1 Axes>"
      ]
     },
     "metadata": {},
     "output_type": "display_data"
    }
   ],
   "source": [
    "# Generate ROC curve values: fpr, tpr, thresholds\n",
    "fpr, tpr, thresholds = roc_curve(y_test,  y_pred[:,1])\n",
    "\n",
    "plt.plot([0, 1], [0, 1], 'k--')\n",
    "\n",
    "# Plot tpr against fpr\n",
    "plt.plot(fpr, tpr)\n",
    "plt.xlabel('False Positive Rate')\n",
    "plt.ylabel('True Positive Rate')\n",
    "plt.title('ROC Curve')"
   ]
  },
  {
   "cell_type": "code",
   "execution_count": 488,
   "id": "helpful-stage",
   "metadata": {},
   "outputs": [
    {
     "name": "stdout",
     "output_type": "stream",
     "text": [
      "0.7243469988570448\n"
     ]
    },
    {
     "name": "stderr",
     "output_type": "stream",
     "text": [
      "C:\\ProgramData\\Anaconda3\\lib\\site-packages\\ipykernel\\ipkernel.py:287: DeprecationWarning: `should_run_async` will not call `transform_cell` automatically in the future. Please pass the result to `transformed_cell` argument and any exception that happen during thetransform in `preprocessing_exc_tuple` in IPython 7.17 and above.\n",
      "  and should_run_async(code)\n"
     ]
    }
   ],
   "source": [
    "print(roc_auc_score(y_test, y_pred[:,1]))"
   ]
  },
  {
   "cell_type": "code",
   "execution_count": null,
   "id": "divided-texture",
   "metadata": {},
   "outputs": [],
   "source": []
  }
 ],
 "metadata": {
  "kernelspec": {
   "display_name": "Python 3",
   "language": "python",
   "name": "python3"
  },
  "language_info": {
   "codemirror_mode": {
    "name": "ipython",
    "version": 3
   },
   "file_extension": ".py",
   "mimetype": "text/x-python",
   "name": "python",
   "nbconvert_exporter": "python",
   "pygments_lexer": "ipython3",
   "version": "3.7.4"
  }
 },
 "nbformat": 4,
 "nbformat_minor": 5
}
